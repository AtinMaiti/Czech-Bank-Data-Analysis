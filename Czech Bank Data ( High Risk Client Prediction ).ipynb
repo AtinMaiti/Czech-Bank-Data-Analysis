{
 "cells": [
  {
   "cell_type": "markdown",
   "metadata": {},
   "source": [
    "## Credit card data analysis - Czech Bank 1999"
   ]
  },
  {
   "cell_type": "markdown",
   "metadata": {},
   "source": [
    "@uthor - Atin Maiti lastest edit on 2/10/2019 1:11 PM EST\n",
    "\n",
    "Link to the data set:- https://www.researchgate.net/post/Is_there_any_public_database_for_financial_transactions_or_at_least_a_synthetic_generated_data_set"
   ]
  },
  {
   "cell_type": "code",
   "execution_count": 43,
   "metadata": {},
   "outputs": [
    {
     "data": {
      "text/html": [
       "<img src=\"data_map.gif\"/>"
      ],
      "text/plain": [
       "<IPython.core.display.Image object>"
      ]
     },
     "execution_count": 43,
     "metadata": {},
     "output_type": "execute_result"
    }
   ],
   "source": [
    "# The database schema\n",
    "\n",
    "from IPython.display import Image\n",
    "from IPython.core.display import HTML \n",
    "Image(url= \"data_map.gif\")"
   ]
  },
  {
   "cell_type": "markdown",
   "metadata": {},
   "source": [
    "###### All basic package import statements"
   ]
  },
  {
   "cell_type": "code",
   "execution_count": 44,
   "metadata": {
    "collapsed": true
   },
   "outputs": [],
   "source": [
    "import numpy as np\n",
    "import pandas as pd\n",
    "\n",
    "import matplotlib.pyplot as plt\n",
    "plt.style.use('seaborn-whitegrid')\n",
    "%matplotlib inline\n",
    "plt.rcParams['figure.figsize'] = [12, 5]\n",
    "\n",
    "import warnings \n",
    "warnings.filterwarnings('ignore')\n",
    "\n",
    "from sklearn import tree\n",
    "DTclf = tree.DecisionTreeClassifier()"
   ]
  },
  {
   "cell_type": "markdown",
   "metadata": {},
   "source": [
    "###### All data read statements"
   ]
  },
  {
   "cell_type": "code",
   "execution_count": 45,
   "metadata": {
    "collapsed": true
   },
   "outputs": [],
   "source": [
    "account = pd.read_csv('account.csv')"
   ]
  },
  {
   "cell_type": "code",
   "execution_count": 46,
   "metadata": {},
   "outputs": [
    {
     "data": {
      "text/html": [
       "<div>\n",
       "<style>\n",
       "    .dataframe thead tr:only-child th {\n",
       "        text-align: right;\n",
       "    }\n",
       "\n",
       "    .dataframe thead th {\n",
       "        text-align: left;\n",
       "    }\n",
       "\n",
       "    .dataframe tbody tr th {\n",
       "        vertical-align: top;\n",
       "    }\n",
       "</style>\n",
       "<table border=\"1\" class=\"dataframe\">\n",
       "  <thead>\n",
       "    <tr style=\"text-align: right;\">\n",
       "      <th></th>\n",
       "      <th>account_id</th>\n",
       "      <th>district_id</th>\n",
       "      <th>statement</th>\n",
       "      <th>dateopening</th>\n",
       "    </tr>\n",
       "  </thead>\n",
       "  <tbody>\n",
       "    <tr>\n",
       "      <th>0</th>\n",
       "      <td>576</td>\n",
       "      <td>55</td>\n",
       "      <td>monthly</td>\n",
       "      <td>1993-01-01</td>\n",
       "    </tr>\n",
       "    <tr>\n",
       "      <th>1</th>\n",
       "      <td>3818</td>\n",
       "      <td>74</td>\n",
       "      <td>monthly</td>\n",
       "      <td>1993-01-01</td>\n",
       "    </tr>\n",
       "  </tbody>\n",
       "</table>\n",
       "</div>"
      ],
      "text/plain": [
       "   account_id  district_id statement dateopening\n",
       "0         576           55   monthly  1993-01-01\n",
       "1        3818           74   monthly  1993-01-01"
      ]
     },
     "execution_count": 46,
     "metadata": {},
     "output_type": "execute_result"
    }
   ],
   "source": [
    "account.head(2)"
   ]
  },
  {
   "cell_type": "code",
   "execution_count": 47,
   "metadata": {
    "collapsed": true
   },
   "outputs": [],
   "source": [
    "# Calulating the age of the account in years till 1999.\n",
    "account['ageofaccount'] = 1999 - pd.to_numeric(account.dateopening.str.slice(0,4))"
   ]
  },
  {
   "cell_type": "code",
   "execution_count": 48,
   "metadata": {},
   "outputs": [
    {
     "data": {
      "text/html": [
       "<div>\n",
       "<style>\n",
       "    .dataframe thead tr:only-child th {\n",
       "        text-align: right;\n",
       "    }\n",
       "\n",
       "    .dataframe thead th {\n",
       "        text-align: left;\n",
       "    }\n",
       "\n",
       "    .dataframe tbody tr th {\n",
       "        vertical-align: top;\n",
       "    }\n",
       "</style>\n",
       "<table border=\"1\" class=\"dataframe\">\n",
       "  <thead>\n",
       "    <tr style=\"text-align: right;\">\n",
       "      <th></th>\n",
       "      <th>account_id</th>\n",
       "      <th>district_id</th>\n",
       "      <th>statement</th>\n",
       "      <th>dateopening</th>\n",
       "      <th>ageofaccount</th>\n",
       "    </tr>\n",
       "  </thead>\n",
       "  <tbody>\n",
       "    <tr>\n",
       "      <th>0</th>\n",
       "      <td>576</td>\n",
       "      <td>55</td>\n",
       "      <td>monthly</td>\n",
       "      <td>1993-01-01</td>\n",
       "      <td>6</td>\n",
       "    </tr>\n",
       "    <tr>\n",
       "      <th>1</th>\n",
       "      <td>3818</td>\n",
       "      <td>74</td>\n",
       "      <td>monthly</td>\n",
       "      <td>1993-01-01</td>\n",
       "      <td>6</td>\n",
       "    </tr>\n",
       "  </tbody>\n",
       "</table>\n",
       "</div>"
      ],
      "text/plain": [
       "   account_id  district_id statement dateopening  ageofaccount\n",
       "0         576           55   monthly  1993-01-01             6\n",
       "1        3818           74   monthly  1993-01-01             6"
      ]
     },
     "execution_count": 48,
     "metadata": {},
     "output_type": "execute_result"
    }
   ],
   "source": [
    "account.head(2)"
   ]
  },
  {
   "cell_type": "code",
   "execution_count": 49,
   "metadata": {},
   "outputs": [
    {
     "name": "stdout",
     "output_type": "stream",
     "text": [
      "<class 'pandas.core.frame.DataFrame'>\n",
      "RangeIndex: 4500 entries, 0 to 4499\n",
      "Data columns (total 5 columns):\n",
      "account_id      4500 non-null int64\n",
      "district_id     4500 non-null int64\n",
      "statement       4500 non-null object\n",
      "dateopening     4500 non-null object\n",
      "ageofaccount    4500 non-null int64\n",
      "dtypes: int64(3), object(2)\n",
      "memory usage: 175.9+ KB\n"
     ]
    }
   ],
   "source": [
    "# Checking missing values\n",
    "account.info()"
   ]
  },
  {
   "cell_type": "code",
   "execution_count": 50,
   "metadata": {},
   "outputs": [
    {
     "data": {
      "text/html": [
       "<div>\n",
       "<style>\n",
       "    .dataframe thead tr:only-child th {\n",
       "        text-align: right;\n",
       "    }\n",
       "\n",
       "    .dataframe thead th {\n",
       "        text-align: left;\n",
       "    }\n",
       "\n",
       "    .dataframe tbody tr th {\n",
       "        vertical-align: top;\n",
       "    }\n",
       "</style>\n",
       "<table border=\"1\" class=\"dataframe\">\n",
       "  <thead>\n",
       "    <tr style=\"text-align: right;\">\n",
       "      <th></th>\n",
       "      <th>account_id</th>\n",
       "      <th>district_id</th>\n",
       "      <th>ageofaccount</th>\n",
       "    </tr>\n",
       "  </thead>\n",
       "  <tbody>\n",
       "    <tr>\n",
       "      <th>count</th>\n",
       "      <td>4500.000000</td>\n",
       "      <td>4500.000000</td>\n",
       "      <td>4500.000000</td>\n",
       "    </tr>\n",
       "    <tr>\n",
       "      <th>mean</th>\n",
       "      <td>2786.067556</td>\n",
       "      <td>37.310444</td>\n",
       "      <td>3.901778</td>\n",
       "    </tr>\n",
       "    <tr>\n",
       "      <th>std</th>\n",
       "      <td>2313.811984</td>\n",
       "      <td>25.177217</td>\n",
       "      <td>1.483898</td>\n",
       "    </tr>\n",
       "    <tr>\n",
       "      <th>min</th>\n",
       "      <td>1.000000</td>\n",
       "      <td>1.000000</td>\n",
       "      <td>2.000000</td>\n",
       "    </tr>\n",
       "    <tr>\n",
       "      <th>25%</th>\n",
       "      <td>1182.750000</td>\n",
       "      <td>13.000000</td>\n",
       "      <td>3.000000</td>\n",
       "    </tr>\n",
       "    <tr>\n",
       "      <th>50%</th>\n",
       "      <td>2368.000000</td>\n",
       "      <td>38.000000</td>\n",
       "      <td>3.000000</td>\n",
       "    </tr>\n",
       "    <tr>\n",
       "      <th>75%</th>\n",
       "      <td>3552.250000</td>\n",
       "      <td>60.000000</td>\n",
       "      <td>6.000000</td>\n",
       "    </tr>\n",
       "    <tr>\n",
       "      <th>max</th>\n",
       "      <td>11382.000000</td>\n",
       "      <td>77.000000</td>\n",
       "      <td>6.000000</td>\n",
       "    </tr>\n",
       "  </tbody>\n",
       "</table>\n",
       "</div>"
      ],
      "text/plain": [
       "         account_id  district_id  ageofaccount\n",
       "count   4500.000000  4500.000000   4500.000000\n",
       "mean    2786.067556    37.310444      3.901778\n",
       "std     2313.811984    25.177217      1.483898\n",
       "min        1.000000     1.000000      2.000000\n",
       "25%     1182.750000    13.000000      3.000000\n",
       "50%     2368.000000    38.000000      3.000000\n",
       "75%     3552.250000    60.000000      6.000000\n",
       "max    11382.000000    77.000000      6.000000"
      ]
     },
     "execution_count": 50,
     "metadata": {},
     "output_type": "execute_result"
    }
   ],
   "source": [
    "# Summary statistics of accounts\n",
    "account.describe()"
   ]
  },
  {
   "cell_type": "code",
   "execution_count": 51,
   "metadata": {
    "collapsed": true
   },
   "outputs": [],
   "source": [
    "# This table maps the relationship between account credit card and client.\n",
    "disposition = pd.read_csv('disp.csv')"
   ]
  },
  {
   "cell_type": "code",
   "execution_count": 52,
   "metadata": {},
   "outputs": [
    {
     "name": "stdout",
     "output_type": "stream",
     "text": [
      "<class 'pandas.core.frame.DataFrame'>\n",
      "RangeIndex: 5369 entries, 0 to 5368\n",
      "Data columns (total 4 columns):\n",
      "disp_id       5369 non-null int64\n",
      "client_id     5369 non-null int64\n",
      "account_id    5369 non-null int64\n",
      "type          5369 non-null object\n",
      "dtypes: int64(3), object(1)\n",
      "memory usage: 167.9+ KB\n"
     ]
    }
   ],
   "source": [
    "disposition.info()"
   ]
  },
  {
   "cell_type": "code",
   "execution_count": 53,
   "metadata": {
    "collapsed": true
   },
   "outputs": [],
   "source": [
    "client = pd.read_csv('client.csv')"
   ]
  },
  {
   "cell_type": "code",
   "execution_count": 54,
   "metadata": {},
   "outputs": [
    {
     "name": "stdout",
     "output_type": "stream",
     "text": [
      "<class 'pandas.core.frame.DataFrame'>\n",
      "RangeIndex: 5369 entries, 0 to 5368\n",
      "Data columns (total 4 columns):\n",
      "client_id      5369 non-null int64\n",
      "district_id    5369 non-null int64\n",
      "sex            5369 non-null object\n",
      "dob            5369 non-null object\n",
      "dtypes: int64(2), object(2)\n",
      "memory usage: 167.9+ KB\n"
     ]
    }
   ],
   "source": [
    "client.info()"
   ]
  },
  {
   "cell_type": "code",
   "execution_count": 55,
   "metadata": {
    "collapsed": true
   },
   "outputs": [],
   "source": [
    "# Calculating the age of client uptill 1999\n",
    "client['age'] = 1999 - pd.to_numeric(client.dob.str.slice(0,4))"
   ]
  },
  {
   "cell_type": "code",
   "execution_count": 56,
   "metadata": {},
   "outputs": [
    {
     "data": {
      "text/html": [
       "<div>\n",
       "<style>\n",
       "    .dataframe thead tr:only-child th {\n",
       "        text-align: right;\n",
       "    }\n",
       "\n",
       "    .dataframe thead th {\n",
       "        text-align: left;\n",
       "    }\n",
       "\n",
       "    .dataframe tbody tr th {\n",
       "        vertical-align: top;\n",
       "    }\n",
       "</style>\n",
       "<table border=\"1\" class=\"dataframe\">\n",
       "  <thead>\n",
       "    <tr style=\"text-align: right;\">\n",
       "      <th></th>\n",
       "      <th>client_id</th>\n",
       "      <th>district_id</th>\n",
       "      <th>sex</th>\n",
       "      <th>dob</th>\n",
       "      <th>age</th>\n",
       "    </tr>\n",
       "  </thead>\n",
       "  <tbody>\n",
       "    <tr>\n",
       "      <th>0</th>\n",
       "      <td>1</td>\n",
       "      <td>18</td>\n",
       "      <td>F</td>\n",
       "      <td>1970-12-13</td>\n",
       "      <td>29</td>\n",
       "    </tr>\n",
       "    <tr>\n",
       "      <th>1</th>\n",
       "      <td>2</td>\n",
       "      <td>1</td>\n",
       "      <td>M</td>\n",
       "      <td>1945-02-04</td>\n",
       "      <td>54</td>\n",
       "    </tr>\n",
       "    <tr>\n",
       "      <th>2</th>\n",
       "      <td>3</td>\n",
       "      <td>1</td>\n",
       "      <td>F</td>\n",
       "      <td>1940-10-09</td>\n",
       "      <td>59</td>\n",
       "    </tr>\n",
       "    <tr>\n",
       "      <th>3</th>\n",
       "      <td>4</td>\n",
       "      <td>5</td>\n",
       "      <td>M</td>\n",
       "      <td>1956-12-01</td>\n",
       "      <td>43</td>\n",
       "    </tr>\n",
       "    <tr>\n",
       "      <th>4</th>\n",
       "      <td>5</td>\n",
       "      <td>5</td>\n",
       "      <td>F</td>\n",
       "      <td>1960-07-03</td>\n",
       "      <td>39</td>\n",
       "    </tr>\n",
       "  </tbody>\n",
       "</table>\n",
       "</div>"
      ],
      "text/plain": [
       "   client_id  district_id sex         dob  age\n",
       "0          1           18   F  1970-12-13   29\n",
       "1          2            1   M  1945-02-04   54\n",
       "2          3            1   F  1940-10-09   59\n",
       "3          4            5   M  1956-12-01   43\n",
       "4          5            5   F  1960-07-03   39"
      ]
     },
     "execution_count": 56,
     "metadata": {},
     "output_type": "execute_result"
    }
   ],
   "source": [
    "client.head()"
   ]
  },
  {
   "cell_type": "code",
   "execution_count": 57,
   "metadata": {
    "collapsed": true
   },
   "outputs": [],
   "source": [
    "card = pd.read_csv('card.csv')"
   ]
  },
  {
   "cell_type": "code",
   "execution_count": 58,
   "metadata": {},
   "outputs": [
    {
     "name": "stdout",
     "output_type": "stream",
     "text": [
      "<class 'pandas.core.frame.DataFrame'>\n",
      "RangeIndex: 892 entries, 0 to 891\n",
      "Data columns (total 4 columns):\n",
      "card_id    892 non-null int64\n",
      "disp_id    892 non-null int64\n",
      "type       892 non-null object\n",
      "issued     892 non-null object\n",
      "dtypes: int64(2), object(2)\n",
      "memory usage: 28.0+ KB\n"
     ]
    }
   ],
   "source": [
    "card.info()"
   ]
  },
  {
   "cell_type": "code",
   "execution_count": 59,
   "metadata": {
    "collapsed": true
   },
   "outputs": [],
   "source": [
    "district = pd.read_csv('district.csv')"
   ]
  },
  {
   "cell_type": "code",
   "execution_count": 60,
   "metadata": {},
   "outputs": [
    {
     "name": "stdout",
     "output_type": "stream",
     "text": [
      "<class 'pandas.core.frame.DataFrame'>\n",
      "RangeIndex: 77 entries, 0 to 76\n",
      "Data columns (total 16 columns):\n",
      "a1     77 non-null int64\n",
      "a2     77 non-null object\n",
      "a3     77 non-null object\n",
      "a4     77 non-null int64\n",
      "a5     77 non-null int64\n",
      "a6     77 non-null int64\n",
      "a7     77 non-null int64\n",
      "a8     77 non-null int64\n",
      "a9     77 non-null int64\n",
      "a10    77 non-null float64\n",
      "a11    77 non-null int64\n",
      "a12    76 non-null float64\n",
      "a13    77 non-null float64\n",
      "a14    77 non-null int64\n",
      "a15    76 non-null float64\n",
      "a16    77 non-null int64\n",
      "dtypes: float64(4), int64(10), object(2)\n",
      "memory usage: 9.7+ KB\n"
     ]
    }
   ],
   "source": [
    "district.info()"
   ]
  },
  {
   "cell_type": "code",
   "execution_count": 61,
   "metadata": {
    "collapsed": true
   },
   "outputs": [],
   "source": [
    "# Changing the name of column to more descriptive ones.\n",
    "district.columns = ['districtCode', 'districtName', 'region', 'noofinhabitant', 'a5', 'a6', 'a7', 'a8', 'noofcities', 'ratioofurbaninhabitants', \n",
    "                    'avgsalary','unemp95', 'unemp96', 'entrepreneurs', 'crimes95', 'crimes96']"
   ]
  },
  {
   "cell_type": "code",
   "execution_count": 62,
   "metadata": {
    "collapsed": true
   },
   "outputs": [],
   "source": [
    "order = pd.read_csv('order.csv')"
   ]
  },
  {
   "cell_type": "code",
   "execution_count": 63,
   "metadata": {},
   "outputs": [
    {
     "name": "stdout",
     "output_type": "stream",
     "text": [
      "<class 'pandas.core.frame.DataFrame'>\n",
      "RangeIndex: 6471 entries, 0 to 6470\n",
      "Data columns (total 6 columns):\n",
      "order_id      6471 non-null int64\n",
      "account_id    6471 non-null int64\n",
      "bank_to       6471 non-null object\n",
      "account_to    6471 non-null int64\n",
      "amount        6471 non-null float64\n",
      "k_symbol      6471 non-null object\n",
      "dtypes: float64(1), int64(3), object(2)\n",
      "memory usage: 303.4+ KB\n"
     ]
    }
   ],
   "source": [
    "order.info()"
   ]
  },
  {
   "cell_type": "code",
   "execution_count": 64,
   "metadata": {
    "collapsed": true
   },
   "outputs": [],
   "source": [
    "loan = pd.read_csv(\"loan.csv\")"
   ]
  },
  {
   "cell_type": "code",
   "execution_count": 65,
   "metadata": {},
   "outputs": [
    {
     "name": "stdout",
     "output_type": "stream",
     "text": [
      "<class 'pandas.core.frame.DataFrame'>\n",
      "RangeIndex: 682 entries, 0 to 681\n",
      "Data columns (total 7 columns):\n",
      "loan_id       682 non-null int64\n",
      "account_id    682 non-null int64\n",
      "date          682 non-null int64\n",
      "amount        682 non-null int64\n",
      "duration      682 non-null int64\n",
      "payments      682 non-null float64\n",
      "status        682 non-null object\n",
      "dtypes: float64(1), int64(5), object(1)\n",
      "memory usage: 37.4+ KB\n"
     ]
    }
   ],
   "source": [
    "loan.info()"
   ]
  },
  {
   "cell_type": "code",
   "execution_count": 66,
   "metadata": {},
   "outputs": [],
   "source": [
    "transaction = pd.read_table('trans.asc', sep=';')"
   ]
  },
  {
   "cell_type": "code",
   "execution_count": 67,
   "metadata": {},
   "outputs": [
    {
     "data": {
      "text/html": [
       "<div>\n",
       "<style>\n",
       "    .dataframe thead tr:only-child th {\n",
       "        text-align: right;\n",
       "    }\n",
       "\n",
       "    .dataframe thead th {\n",
       "        text-align: left;\n",
       "    }\n",
       "\n",
       "    .dataframe tbody tr th {\n",
       "        vertical-align: top;\n",
       "    }\n",
       "</style>\n",
       "<table border=\"1\" class=\"dataframe\">\n",
       "  <thead>\n",
       "    <tr style=\"text-align: right;\">\n",
       "      <th></th>\n",
       "      <th>trans_id</th>\n",
       "      <th>account_id</th>\n",
       "      <th>date</th>\n",
       "      <th>type</th>\n",
       "      <th>operation</th>\n",
       "      <th>amount</th>\n",
       "      <th>balance</th>\n",
       "      <th>k_symbol</th>\n",
       "      <th>bank</th>\n",
       "      <th>account</th>\n",
       "    </tr>\n",
       "  </thead>\n",
       "  <tbody>\n",
       "    <tr>\n",
       "      <th>0</th>\n",
       "      <td>695247</td>\n",
       "      <td>2378</td>\n",
       "      <td>930101</td>\n",
       "      <td>PRIJEM</td>\n",
       "      <td>VKLAD</td>\n",
       "      <td>700.0</td>\n",
       "      <td>700.0</td>\n",
       "      <td>NaN</td>\n",
       "      <td>NaN</td>\n",
       "      <td>NaN</td>\n",
       "    </tr>\n",
       "    <tr>\n",
       "      <th>1</th>\n",
       "      <td>171812</td>\n",
       "      <td>576</td>\n",
       "      <td>930101</td>\n",
       "      <td>PRIJEM</td>\n",
       "      <td>VKLAD</td>\n",
       "      <td>900.0</td>\n",
       "      <td>900.0</td>\n",
       "      <td>NaN</td>\n",
       "      <td>NaN</td>\n",
       "      <td>NaN</td>\n",
       "    </tr>\n",
       "    <tr>\n",
       "      <th>2</th>\n",
       "      <td>207264</td>\n",
       "      <td>704</td>\n",
       "      <td>930101</td>\n",
       "      <td>PRIJEM</td>\n",
       "      <td>VKLAD</td>\n",
       "      <td>1000.0</td>\n",
       "      <td>1000.0</td>\n",
       "      <td>NaN</td>\n",
       "      <td>NaN</td>\n",
       "      <td>NaN</td>\n",
       "    </tr>\n",
       "    <tr>\n",
       "      <th>3</th>\n",
       "      <td>1117247</td>\n",
       "      <td>3818</td>\n",
       "      <td>930101</td>\n",
       "      <td>PRIJEM</td>\n",
       "      <td>VKLAD</td>\n",
       "      <td>600.0</td>\n",
       "      <td>600.0</td>\n",
       "      <td>NaN</td>\n",
       "      <td>NaN</td>\n",
       "      <td>NaN</td>\n",
       "    </tr>\n",
       "    <tr>\n",
       "      <th>4</th>\n",
       "      <td>579373</td>\n",
       "      <td>1972</td>\n",
       "      <td>930102</td>\n",
       "      <td>PRIJEM</td>\n",
       "      <td>VKLAD</td>\n",
       "      <td>400.0</td>\n",
       "      <td>400.0</td>\n",
       "      <td>NaN</td>\n",
       "      <td>NaN</td>\n",
       "      <td>NaN</td>\n",
       "    </tr>\n",
       "  </tbody>\n",
       "</table>\n",
       "</div>"
      ],
      "text/plain": [
       "   trans_id  account_id    date    type operation  amount  balance k_symbol  \\\n",
       "0    695247        2378  930101  PRIJEM     VKLAD   700.0    700.0      NaN   \n",
       "1    171812         576  930101  PRIJEM     VKLAD   900.0    900.0      NaN   \n",
       "2    207264         704  930101  PRIJEM     VKLAD  1000.0   1000.0      NaN   \n",
       "3   1117247        3818  930101  PRIJEM     VKLAD   600.0    600.0      NaN   \n",
       "4    579373        1972  930102  PRIJEM     VKLAD   400.0    400.0      NaN   \n",
       "\n",
       "  bank  account  \n",
       "0  NaN      NaN  \n",
       "1  NaN      NaN  \n",
       "2  NaN      NaN  \n",
       "3  NaN      NaN  \n",
       "4  NaN      NaN  "
      ]
     },
     "execution_count": 67,
     "metadata": {},
     "output_type": "execute_result"
    }
   ],
   "source": [
    "# Transaction table has many missing values, but as a preliminary analysis we will be just \n",
    "# using the freq transaction as our attribute\n",
    "transaction.head()"
   ]
  },
  {
   "cell_type": "markdown",
   "metadata": {},
   "source": [
    "###### Merging Tables"
   ]
  },
  {
   "cell_type": "code",
   "execution_count": 68,
   "metadata": {},
   "outputs": [],
   "source": [
    "# Outer join of Account on disposition table\n",
    "join1  = pd.merge(account, disposition, on='account_id', how='outer')"
   ]
  },
  {
   "cell_type": "code",
   "execution_count": 69,
   "metadata": {},
   "outputs": [
    {
     "data": {
      "text/html": [
       "<div>\n",
       "<style>\n",
       "    .dataframe thead tr:only-child th {\n",
       "        text-align: right;\n",
       "    }\n",
       "\n",
       "    .dataframe thead th {\n",
       "        text-align: left;\n",
       "    }\n",
       "\n",
       "    .dataframe tbody tr th {\n",
       "        vertical-align: top;\n",
       "    }\n",
       "</style>\n",
       "<table border=\"1\" class=\"dataframe\">\n",
       "  <thead>\n",
       "    <tr style=\"text-align: right;\">\n",
       "      <th></th>\n",
       "      <th>account_id</th>\n",
       "      <th>district_id</th>\n",
       "      <th>statement</th>\n",
       "      <th>dateopening</th>\n",
       "      <th>ageofaccount</th>\n",
       "      <th>disp_id</th>\n",
       "      <th>client_id</th>\n",
       "      <th>type</th>\n",
       "    </tr>\n",
       "  </thead>\n",
       "  <tbody>\n",
       "    <tr>\n",
       "      <th>0</th>\n",
       "      <td>576</td>\n",
       "      <td>55</td>\n",
       "      <td>monthly</td>\n",
       "      <td>1993-01-01</td>\n",
       "      <td>6</td>\n",
       "      <td>692</td>\n",
       "      <td>692</td>\n",
       "      <td>OWNER</td>\n",
       "    </tr>\n",
       "    <tr>\n",
       "      <th>1</th>\n",
       "      <td>576</td>\n",
       "      <td>55</td>\n",
       "      <td>monthly</td>\n",
       "      <td>1993-01-01</td>\n",
       "      <td>6</td>\n",
       "      <td>693</td>\n",
       "      <td>693</td>\n",
       "      <td>DISPONENT</td>\n",
       "    </tr>\n",
       "    <tr>\n",
       "      <th>2</th>\n",
       "      <td>3818</td>\n",
       "      <td>74</td>\n",
       "      <td>monthly</td>\n",
       "      <td>1993-01-01</td>\n",
       "      <td>6</td>\n",
       "      <td>4601</td>\n",
       "      <td>4601</td>\n",
       "      <td>OWNER</td>\n",
       "    </tr>\n",
       "    <tr>\n",
       "      <th>3</th>\n",
       "      <td>3818</td>\n",
       "      <td>74</td>\n",
       "      <td>monthly</td>\n",
       "      <td>1993-01-01</td>\n",
       "      <td>6</td>\n",
       "      <td>4602</td>\n",
       "      <td>4602</td>\n",
       "      <td>DISPONENT</td>\n",
       "    </tr>\n",
       "    <tr>\n",
       "      <th>4</th>\n",
       "      <td>704</td>\n",
       "      <td>55</td>\n",
       "      <td>monthly</td>\n",
       "      <td>1993-01-01</td>\n",
       "      <td>6</td>\n",
       "      <td>844</td>\n",
       "      <td>844</td>\n",
       "      <td>OWNER</td>\n",
       "    </tr>\n",
       "  </tbody>\n",
       "</table>\n",
       "</div>"
      ],
      "text/plain": [
       "   account_id  district_id statement dateopening  ageofaccount  disp_id  \\\n",
       "0         576           55   monthly  1993-01-01             6      692   \n",
       "1         576           55   monthly  1993-01-01             6      693   \n",
       "2        3818           74   monthly  1993-01-01             6     4601   \n",
       "3        3818           74   monthly  1993-01-01             6     4602   \n",
       "4         704           55   monthly  1993-01-01             6      844   \n",
       "\n",
       "   client_id       type  \n",
       "0        692      OWNER  \n",
       "1        693  DISPONENT  \n",
       "2       4601      OWNER  \n",
       "3       4602  DISPONENT  \n",
       "4        844      OWNER  "
      ]
     },
     "execution_count": 69,
     "metadata": {},
     "output_type": "execute_result"
    }
   ],
   "source": [
    "join1.head()"
   ]
  },
  {
   "cell_type": "code",
   "execution_count": 70,
   "metadata": {
    "collapsed": true
   },
   "outputs": [],
   "source": [
    "# Outer join on table join1 on client table\n",
    "join2 = pd.merge(join1, client, on='client_id', how='outer')"
   ]
  },
  {
   "cell_type": "code",
   "execution_count": 71,
   "metadata": {},
   "outputs": [
    {
     "data": {
      "text/html": [
       "<div>\n",
       "<style>\n",
       "    .dataframe thead tr:only-child th {\n",
       "        text-align: right;\n",
       "    }\n",
       "\n",
       "    .dataframe thead th {\n",
       "        text-align: left;\n",
       "    }\n",
       "\n",
       "    .dataframe tbody tr th {\n",
       "        vertical-align: top;\n",
       "    }\n",
       "</style>\n",
       "<table border=\"1\" class=\"dataframe\">\n",
       "  <thead>\n",
       "    <tr style=\"text-align: right;\">\n",
       "      <th></th>\n",
       "      <th>account_id</th>\n",
       "      <th>district_id_x</th>\n",
       "      <th>statement</th>\n",
       "      <th>dateopening</th>\n",
       "      <th>ageofaccount</th>\n",
       "      <th>disp_id</th>\n",
       "      <th>client_id</th>\n",
       "      <th>type</th>\n",
       "      <th>district_id_y</th>\n",
       "      <th>sex</th>\n",
       "      <th>dob</th>\n",
       "      <th>age</th>\n",
       "    </tr>\n",
       "  </thead>\n",
       "  <tbody>\n",
       "    <tr>\n",
       "      <th>0</th>\n",
       "      <td>576</td>\n",
       "      <td>55</td>\n",
       "      <td>monthly</td>\n",
       "      <td>1993-01-01</td>\n",
       "      <td>6</td>\n",
       "      <td>692</td>\n",
       "      <td>692</td>\n",
       "      <td>OWNER</td>\n",
       "      <td>74</td>\n",
       "      <td>F</td>\n",
       "      <td>1936-01-11</td>\n",
       "      <td>63</td>\n",
       "    </tr>\n",
       "    <tr>\n",
       "      <th>1</th>\n",
       "      <td>576</td>\n",
       "      <td>55</td>\n",
       "      <td>monthly</td>\n",
       "      <td>1993-01-01</td>\n",
       "      <td>6</td>\n",
       "      <td>693</td>\n",
       "      <td>693</td>\n",
       "      <td>DISPONENT</td>\n",
       "      <td>74</td>\n",
       "      <td>M</td>\n",
       "      <td>1935-03-17</td>\n",
       "      <td>64</td>\n",
       "    </tr>\n",
       "    <tr>\n",
       "      <th>2</th>\n",
       "      <td>3818</td>\n",
       "      <td>74</td>\n",
       "      <td>monthly</td>\n",
       "      <td>1993-01-01</td>\n",
       "      <td>6</td>\n",
       "      <td>4601</td>\n",
       "      <td>4601</td>\n",
       "      <td>OWNER</td>\n",
       "      <td>1</td>\n",
       "      <td>M</td>\n",
       "      <td>1935-04-02</td>\n",
       "      <td>64</td>\n",
       "    </tr>\n",
       "    <tr>\n",
       "      <th>3</th>\n",
       "      <td>3818</td>\n",
       "      <td>74</td>\n",
       "      <td>monthly</td>\n",
       "      <td>1993-01-01</td>\n",
       "      <td>6</td>\n",
       "      <td>4602</td>\n",
       "      <td>4602</td>\n",
       "      <td>DISPONENT</td>\n",
       "      <td>1</td>\n",
       "      <td>F</td>\n",
       "      <td>1934-04-04</td>\n",
       "      <td>65</td>\n",
       "    </tr>\n",
       "    <tr>\n",
       "      <th>4</th>\n",
       "      <td>704</td>\n",
       "      <td>55</td>\n",
       "      <td>monthly</td>\n",
       "      <td>1993-01-01</td>\n",
       "      <td>6</td>\n",
       "      <td>844</td>\n",
       "      <td>844</td>\n",
       "      <td>OWNER</td>\n",
       "      <td>22</td>\n",
       "      <td>M</td>\n",
       "      <td>1945-01-14</td>\n",
       "      <td>54</td>\n",
       "    </tr>\n",
       "  </tbody>\n",
       "</table>\n",
       "</div>"
      ],
      "text/plain": [
       "   account_id  district_id_x statement dateopening  ageofaccount  disp_id  \\\n",
       "0         576             55   monthly  1993-01-01             6      692   \n",
       "1         576             55   monthly  1993-01-01             6      693   \n",
       "2        3818             74   monthly  1993-01-01             6     4601   \n",
       "3        3818             74   monthly  1993-01-01             6     4602   \n",
       "4         704             55   monthly  1993-01-01             6      844   \n",
       "\n",
       "   client_id       type  district_id_y sex         dob  age  \n",
       "0        692      OWNER             74   F  1936-01-11   63  \n",
       "1        693  DISPONENT             74   M  1935-03-17   64  \n",
       "2       4601      OWNER              1   M  1935-04-02   64  \n",
       "3       4602  DISPONENT              1   F  1934-04-04   65  \n",
       "4        844      OWNER             22   M  1945-01-14   54  "
      ]
     },
     "execution_count": 71,
     "metadata": {},
     "output_type": "execute_result"
    }
   ],
   "source": [
    "join2.head()"
   ]
  },
  {
   "cell_type": "markdown",
   "metadata": {},
   "source": [
    "###### district_id_x is account district\n",
    "###### district_id_y is client disttrict"
   ]
  },
  {
   "cell_type": "code",
   "execution_count": 72,
   "metadata": {
    "collapsed": true
   },
   "outputs": [],
   "source": [
    "# Finally merging card details to join2 table\n",
    "join3 = pd.merge(join2, card, on='disp_id', how='outer')"
   ]
  },
  {
   "cell_type": "code",
   "execution_count": 73,
   "metadata": {},
   "outputs": [
    {
     "data": {
      "text/plain": [
       "Index(['account_id', 'district_id_x', 'statement', 'dateopening',\n",
       "       'ageofaccount', 'disp_id', 'client_id', 'type_x', 'district_id_y',\n",
       "       'sex', 'dob', 'age', 'card_id', 'type_y', 'issued'],\n",
       "      dtype='object')"
      ]
     },
     "execution_count": 73,
     "metadata": {},
     "output_type": "execute_result"
    }
   ],
   "source": [
    "join3.columns"
   ]
  },
  {
   "cell_type": "code",
   "execution_count": 74,
   "metadata": {
    "collapsed": true
   },
   "outputs": [],
   "source": [
    "# Changing district id col name to avoid confusion\n",
    "join3.columns = ['account_id', 'district_id_account', 'statement', 'dateopening',\n",
    "       'ageofaccount', 'disp_id', 'client_id', 'type_x', 'district_id_client',\n",
    "       'sex', 'dob', 'age', 'card_id', 'type_y', 'issued']"
   ]
  },
  {
   "cell_type": "code",
   "execution_count": 75,
   "metadata": {},
   "outputs": [
    {
     "data": {
      "text/html": [
       "<div>\n",
       "<style>\n",
       "    .dataframe thead tr:only-child th {\n",
       "        text-align: right;\n",
       "    }\n",
       "\n",
       "    .dataframe thead th {\n",
       "        text-align: left;\n",
       "    }\n",
       "\n",
       "    .dataframe tbody tr th {\n",
       "        vertical-align: top;\n",
       "    }\n",
       "</style>\n",
       "<table border=\"1\" class=\"dataframe\">\n",
       "  <thead>\n",
       "    <tr style=\"text-align: right;\">\n",
       "      <th></th>\n",
       "      <th>account_id</th>\n",
       "      <th>district_id_account</th>\n",
       "      <th>statement</th>\n",
       "      <th>dateopening</th>\n",
       "      <th>ageofaccount</th>\n",
       "      <th>disp_id</th>\n",
       "      <th>client_id</th>\n",
       "      <th>type_x</th>\n",
       "      <th>district_id_client</th>\n",
       "      <th>sex</th>\n",
       "      <th>dob</th>\n",
       "      <th>age</th>\n",
       "      <th>card_id</th>\n",
       "      <th>type_y</th>\n",
       "      <th>issued</th>\n",
       "    </tr>\n",
       "  </thead>\n",
       "  <tbody>\n",
       "    <tr>\n",
       "      <th>0</th>\n",
       "      <td>576</td>\n",
       "      <td>55</td>\n",
       "      <td>monthly</td>\n",
       "      <td>1993-01-01</td>\n",
       "      <td>6</td>\n",
       "      <td>692</td>\n",
       "      <td>692</td>\n",
       "      <td>OWNER</td>\n",
       "      <td>74</td>\n",
       "      <td>F</td>\n",
       "      <td>1936-01-11</td>\n",
       "      <td>63</td>\n",
       "      <td>NaN</td>\n",
       "      <td>NaN</td>\n",
       "      <td>NaN</td>\n",
       "    </tr>\n",
       "    <tr>\n",
       "      <th>1</th>\n",
       "      <td>576</td>\n",
       "      <td>55</td>\n",
       "      <td>monthly</td>\n",
       "      <td>1993-01-01</td>\n",
       "      <td>6</td>\n",
       "      <td>693</td>\n",
       "      <td>693</td>\n",
       "      <td>DISPONENT</td>\n",
       "      <td>74</td>\n",
       "      <td>M</td>\n",
       "      <td>1935-03-17</td>\n",
       "      <td>64</td>\n",
       "      <td>NaN</td>\n",
       "      <td>NaN</td>\n",
       "      <td>NaN</td>\n",
       "    </tr>\n",
       "    <tr>\n",
       "      <th>2</th>\n",
       "      <td>3818</td>\n",
       "      <td>74</td>\n",
       "      <td>monthly</td>\n",
       "      <td>1993-01-01</td>\n",
       "      <td>6</td>\n",
       "      <td>4601</td>\n",
       "      <td>4601</td>\n",
       "      <td>OWNER</td>\n",
       "      <td>1</td>\n",
       "      <td>M</td>\n",
       "      <td>1935-04-02</td>\n",
       "      <td>64</td>\n",
       "      <td>NaN</td>\n",
       "      <td>NaN</td>\n",
       "      <td>NaN</td>\n",
       "    </tr>\n",
       "    <tr>\n",
       "      <th>3</th>\n",
       "      <td>3818</td>\n",
       "      <td>74</td>\n",
       "      <td>monthly</td>\n",
       "      <td>1993-01-01</td>\n",
       "      <td>6</td>\n",
       "      <td>4602</td>\n",
       "      <td>4602</td>\n",
       "      <td>DISPONENT</td>\n",
       "      <td>1</td>\n",
       "      <td>F</td>\n",
       "      <td>1934-04-04</td>\n",
       "      <td>65</td>\n",
       "      <td>NaN</td>\n",
       "      <td>NaN</td>\n",
       "      <td>NaN</td>\n",
       "    </tr>\n",
       "    <tr>\n",
       "      <th>4</th>\n",
       "      <td>704</td>\n",
       "      <td>55</td>\n",
       "      <td>monthly</td>\n",
       "      <td>1993-01-01</td>\n",
       "      <td>6</td>\n",
       "      <td>844</td>\n",
       "      <td>844</td>\n",
       "      <td>OWNER</td>\n",
       "      <td>22</td>\n",
       "      <td>M</td>\n",
       "      <td>1945-01-14</td>\n",
       "      <td>54</td>\n",
       "      <td>NaN</td>\n",
       "      <td>NaN</td>\n",
       "      <td>NaN</td>\n",
       "    </tr>\n",
       "  </tbody>\n",
       "</table>\n",
       "</div>"
      ],
      "text/plain": [
       "   account_id  district_id_account statement dateopening  ageofaccount  \\\n",
       "0         576                   55   monthly  1993-01-01             6   \n",
       "1         576                   55   monthly  1993-01-01             6   \n",
       "2        3818                   74   monthly  1993-01-01             6   \n",
       "3        3818                   74   monthly  1993-01-01             6   \n",
       "4         704                   55   monthly  1993-01-01             6   \n",
       "\n",
       "   disp_id  client_id     type_x  district_id_client sex         dob  age  \\\n",
       "0      692        692      OWNER                  74   F  1936-01-11   63   \n",
       "1      693        693  DISPONENT                  74   M  1935-03-17   64   \n",
       "2     4601       4601      OWNER                   1   M  1935-04-02   64   \n",
       "3     4602       4602  DISPONENT                   1   F  1934-04-04   65   \n",
       "4      844        844      OWNER                  22   M  1945-01-14   54   \n",
       "\n",
       "   card_id type_y issued  \n",
       "0      NaN    NaN    NaN  \n",
       "1      NaN    NaN    NaN  \n",
       "2      NaN    NaN    NaN  \n",
       "3      NaN    NaN    NaN  \n",
       "4      NaN    NaN    NaN  "
      ]
     },
     "execution_count": 75,
     "metadata": {},
     "output_type": "execute_result"
    }
   ],
   "source": [
    "join3.head()"
   ]
  },
  {
   "cell_type": "markdown",
   "metadata": {},
   "source": [
    "## Determining high risk clients"
   ]
  },
  {
   "cell_type": "markdown",
   "metadata": {},
   "source": [
    "Assumption:  These are the client who had taken and failed to pay even after the contract expired."
   ]
  },
  {
   "cell_type": "code",
   "execution_count": 76,
   "metadata": {
    "collapsed": true
   },
   "outputs": [],
   "source": [
    "# Loan with status 'B' stands for contract finished, loan not payed.\n",
    "HighRiskAcc = loan[loan.status == 'B']"
   ]
  },
  {
   "cell_type": "code",
   "execution_count": 77,
   "metadata": {},
   "outputs": [
    {
     "data": {
      "text/plain": [
       "array([ 1787,  5428,  6034, 10266,  8073, 10131,  6473,  5927,  5442,\n",
       "        6051,   790,  2176,  7824,  8566,  1106,  1527,  6118, 11021,\n",
       "        1993,   347,  6609,  4081,  5066,  6400,  7418,    19,  4462,\n",
       "        9199,  4320,  1888,  3273], dtype=int64)"
      ]
     },
     "execution_count": 77,
     "metadata": {},
     "output_type": "execute_result"
    }
   ],
   "source": [
    "HighRiskAcc.account_id.unique() # These are the accounts associated with high rish clients"
   ]
  },
  {
   "cell_type": "code",
   "execution_count": 78,
   "metadata": {
    "collapsed": true
   },
   "outputs": [],
   "source": [
    "highRiskacc = HighRiskAcc.account_id.unique() # High risk clients"
   ]
  },
  {
   "cell_type": "code",
   "execution_count": 79,
   "metadata": {},
   "outputs": [
    {
     "data": {
      "text/plain": [
       "31"
      ]
     },
     "execution_count": 79,
     "metadata": {},
     "output_type": "execute_result"
    }
   ],
   "source": [
    "len(highRiskacc)"
   ]
  },
  {
   "cell_type": "code",
   "execution_count": 80,
   "metadata": {
    "collapsed": true
   },
   "outputs": [],
   "source": [
    "HighRisk = join2[join2.account_id.isin(highRiskacc)]"
   ]
  },
  {
   "cell_type": "code",
   "execution_count": 81,
   "metadata": {},
   "outputs": [
    {
     "data": {
      "text/plain": [
       "array([ 7815,  7291,  6567,  2166,  6551,   946,  2635, 12625, 13548,\n",
       "        7311,  1327,  9973, 10566,  1851,  7166, 12464,   424,  7390,\n",
       "        9675,  2422,  7980,  9196,    25,  4918,  6115,  7727,  5384,\n",
       "        3962, 11327,  5203,  2291], dtype=int64)"
      ]
     },
     "execution_count": 81,
     "metadata": {},
     "output_type": "execute_result"
    }
   ],
   "source": [
    "HighRisk.client_id.unique()"
   ]
  },
  {
   "cell_type": "code",
   "execution_count": 82,
   "metadata": {
    "collapsed": true
   },
   "outputs": [],
   "source": [
    "highRisk = HighRisk.client_id.unique()"
   ]
  },
  {
   "cell_type": "code",
   "execution_count": 83,
   "metadata": {},
   "outputs": [
    {
     "data": {
      "text/plain": [
       "31"
      ]
     },
     "execution_count": 83,
     "metadata": {},
     "output_type": "execute_result"
    }
   ],
   "source": [
    "len(highRisk)"
   ]
  },
  {
   "cell_type": "markdown",
   "metadata": {},
   "source": [
    "Hypothesis: As the number of HR acc and HR clients are same we can infer that HR clients are more likely those client who own an account and does not have any disponent."
   ]
  },
  {
   "cell_type": "code",
   "execution_count": 84,
   "metadata": {},
   "outputs": [
    {
     "data": {
      "text/plain": [
       "count    5369.000000\n",
       "mean       45.801639\n",
       "std        17.282283\n",
       "min        12.000000\n",
       "25%        31.000000\n",
       "50%        45.000000\n",
       "75%        59.000000\n",
       "max        88.000000\n",
       "Name: age, dtype: float64"
      ]
     },
     "execution_count": 84,
     "metadata": {},
     "output_type": "execute_result"
    }
   ],
   "source": [
    "client.age.describe()"
   ]
  },
  {
   "cell_type": "code",
   "execution_count": 85,
   "metadata": {
    "collapsed": true
   },
   "outputs": [],
   "source": [
    "clienthighRisk = client[client.client_id.isin(highRisk)]"
   ]
  },
  {
   "cell_type": "code",
   "execution_count": 86,
   "metadata": {},
   "outputs": [
    {
     "data": {
      "text/plain": [
       "count    31.000000\n",
       "mean     43.967742\n",
       "std      13.123729\n",
       "min      21.000000\n",
       "25%      34.000000\n",
       "50%      47.000000\n",
       "75%      53.500000\n",
       "max      64.000000\n",
       "Name: age, dtype: float64"
      ]
     },
     "execution_count": 86,
     "metadata": {},
     "output_type": "execute_result"
    }
   ],
   "source": [
    "clienthighRisk.age.describe()"
   ]
  },
  {
   "cell_type": "markdown",
   "metadata": {},
   "source": [
    "Hypothesis: High risk clients are usually mid age people between the age of 20 - 60"
   ]
  },
  {
   "cell_type": "code",
   "execution_count": 87,
   "metadata": {},
   "outputs": [
    {
     "data": {
      "text/plain": [
       "array([21,  1, 54, 20, 31, 30,  6, 68, 67, 74, 11, 61, 73, 13, 24,  5, 15,\n",
       "       77, 56,  4, 16, 60, 72, 39], dtype=int64)"
      ]
     },
     "execution_count": 87,
     "metadata": {},
     "output_type": "execute_result"
    }
   ],
   "source": [
    "clienthighRisk.district_id.unique()"
   ]
  },
  {
   "cell_type": "markdown",
   "metadata": {},
   "source": [
    "All sorts of hypothesis can be made for HR clients with the existing data, let feed all the data into model and see the\n",
    "model selection."
   ]
  },
  {
   "cell_type": "code",
   "execution_count": 88,
   "metadata": {
    "collapsed": true
   },
   "outputs": [],
   "source": [
    "orderbySum = order.groupby('account_id')['amount'].sum()"
   ]
  },
  {
   "cell_type": "code",
   "execution_count": 89,
   "metadata": {
    "collapsed": true
   },
   "outputs": [],
   "source": [
    "orderbySum = pd.DataFrame(orderbySum)"
   ]
  },
  {
   "cell_type": "code",
   "execution_count": 90,
   "metadata": {
    "collapsed": true
   },
   "outputs": [],
   "source": [
    "orderbySum['account_id'] = orderbySum.index"
   ]
  },
  {
   "cell_type": "markdown",
   "metadata": {},
   "source": [
    "### Demographics Vizualization"
   ]
  },
  {
   "cell_type": "code",
   "execution_count": 91,
   "metadata": {},
   "outputs": [
    {
     "data": {
      "image/png": "[encoded data removed]",
      "text/plain": [
       "<matplotlib.figure.Figure at 0x276df182f60>"
      ]
     },
     "metadata": {},
     "output_type": "display_data"
    }
   ],
   "source": [
    "plt.plot(district.districtCode, district.crimes95/district.noofinhabitant, '-ok')\n",
    "plt.ylabel('Crime in 1995 / No of inhabitants')\n",
    "plt.xlabel( 'Drictrict code' )\n",
    "plt.show()"
   ]
  },
  {
   "cell_type": "code",
   "execution_count": 92,
   "metadata": {},
   "outputs": [
    {
     "data": {
      "image/png": "[encoded data removed]",
      "text/plain": [
       "<matplotlib.figure.Figure at 0x276df2fb6a0>"
      ]
     },
     "metadata": {},
     "output_type": "display_data"
    }
   ],
   "source": [
    "plt.plot(district.districtCode, district.crimes96/district.noofinhabitant, '-ok')\n",
    "plt.ylabel('Crime in 1996 / No of inhabitants')\n",
    "plt.xlabel( 'Drictrict code' )\n",
    "plt.show()"
   ]
  },
  {
   "cell_type": "code",
   "execution_count": 93,
   "metadata": {},
   "outputs": [
    {
     "data": {
      "text/html": [
       "<div>\n",
       "<style>\n",
       "    .dataframe thead tr:only-child th {\n",
       "        text-align: right;\n",
       "    }\n",
       "\n",
       "    .dataframe thead th {\n",
       "        text-align: left;\n",
       "    }\n",
       "\n",
       "    .dataframe tbody tr th {\n",
       "        vertical-align: top;\n",
       "    }\n",
       "</style>\n",
       "<table border=\"1\" class=\"dataframe\">\n",
       "  <thead>\n",
       "    <tr style=\"text-align: right;\">\n",
       "      <th></th>\n",
       "      <th>districtCode</th>\n",
       "      <th>districtName</th>\n",
       "      <th>region</th>\n",
       "      <th>noofinhabitant</th>\n",
       "      <th>a5</th>\n",
       "      <th>a6</th>\n",
       "      <th>a7</th>\n",
       "      <th>a8</th>\n",
       "      <th>noofcities</th>\n",
       "      <th>ratioofurbaninhabitants</th>\n",
       "      <th>avgsalary</th>\n",
       "      <th>unemp95</th>\n",
       "      <th>unemp96</th>\n",
       "      <th>entrepreneurs</th>\n",
       "      <th>crimes95</th>\n",
       "      <th>crimes96</th>\n",
       "    </tr>\n",
       "  </thead>\n",
       "  <tbody>\n",
       "    <tr>\n",
       "      <th>0</th>\n",
       "      <td>1</td>\n",
       "      <td>Hl.m. Praha</td>\n",
       "      <td>Prague</td>\n",
       "      <td>1204953</td>\n",
       "      <td>0</td>\n",
       "      <td>0</td>\n",
       "      <td>0</td>\n",
       "      <td>1</td>\n",
       "      <td>1</td>\n",
       "      <td>100.0</td>\n",
       "      <td>12541</td>\n",
       "      <td>0.29</td>\n",
       "      <td>0.43</td>\n",
       "      <td>167</td>\n",
       "      <td>85677.0</td>\n",
       "      <td>99107</td>\n",
       "    </tr>\n",
       "    <tr>\n",
       "      <th>6</th>\n",
       "      <td>7</td>\n",
       "      <td>Melnik</td>\n",
       "      <td>central Bohemia</td>\n",
       "      <td>94725</td>\n",
       "      <td>38</td>\n",
       "      <td>28</td>\n",
       "      <td>1</td>\n",
       "      <td>3</td>\n",
       "      <td>6</td>\n",
       "      <td>63.4</td>\n",
       "      <td>9920</td>\n",
       "      <td>2.26</td>\n",
       "      <td>2.87</td>\n",
       "      <td>130</td>\n",
       "      <td>4289.0</td>\n",
       "      <td>4846</td>\n",
       "    </tr>\n",
       "    <tr>\n",
       "      <th>39</th>\n",
       "      <td>40</td>\n",
       "      <td>Teplice</td>\n",
       "      <td>north Bohemia</td>\n",
       "      <td>128118</td>\n",
       "      <td>9</td>\n",
       "      <td>16</td>\n",
       "      <td>6</td>\n",
       "      <td>3</td>\n",
       "      <td>8</td>\n",
       "      <td>85.3</td>\n",
       "      <td>9317</td>\n",
       "      <td>6.49</td>\n",
       "      <td>7.07</td>\n",
       "      <td>97</td>\n",
       "      <td>6949.0</td>\n",
       "      <td>6872</td>\n",
       "    </tr>\n",
       "    <tr>\n",
       "      <th>73</th>\n",
       "      <td>74</td>\n",
       "      <td>Ostrava - mesto</td>\n",
       "      <td>north Moravia</td>\n",
       "      <td>323870</td>\n",
       "      <td>0</td>\n",
       "      <td>0</td>\n",
       "      <td>0</td>\n",
       "      <td>1</td>\n",
       "      <td>1</td>\n",
       "      <td>100.0</td>\n",
       "      <td>10673</td>\n",
       "      <td>4.75</td>\n",
       "      <td>5.44</td>\n",
       "      <td>100</td>\n",
       "      <td>18782.0</td>\n",
       "      <td>18347</td>\n",
       "    </tr>\n",
       "  </tbody>\n",
       "</table>\n",
       "</div>"
      ],
      "text/plain": [
       "    districtCode     districtName           region  noofinhabitant  a5  a6  \\\n",
       "0              1      Hl.m. Praha           Prague         1204953   0   0   \n",
       "6              7           Melnik  central Bohemia           94725  38  28   \n",
       "39            40          Teplice    north Bohemia          128118   9  16   \n",
       "73            74  Ostrava - mesto    north Moravia          323870   0   0   \n",
       "\n",
       "    a7  a8  noofcities  ratioofurbaninhabitants  avgsalary  unemp95  unemp96  \\\n",
       "0    0   1           1                    100.0      12541     0.29     0.43   \n",
       "6    1   3           6                     63.4       9920     2.26     2.87   \n",
       "39   6   3           8                     85.3       9317     6.49     7.07   \n",
       "73   0   1           1                    100.0      10673     4.75     5.44   \n",
       "\n",
       "    entrepreneurs  crimes95  crimes96  \n",
       "0             167   85677.0     99107  \n",
       "6             130    4289.0      4846  \n",
       "39             97    6949.0      6872  \n",
       "73            100   18782.0     18347  "
      ]
     },
     "execution_count": 93,
     "metadata": {},
     "output_type": "execute_result"
    }
   ],
   "source": [
    "# Districts with crime rate more than 5 %\n",
    "district[(district.crimes96/district.noofinhabitant)>0.05]"
   ]
  },
  {
   "cell_type": "code",
   "execution_count": 94,
   "metadata": {},
   "outputs": [
    {
     "data": {
      "image/png": "[encoded data removed]",
      "text/plain": [
       "<matplotlib.figure.Figure at 0x276df5d7e48>"
      ]
     },
     "metadata": {},
     "output_type": "display_data"
    }
   ],
   "source": [
    "plt.plot(district.districtCode, district.unemp95, '-ok')\n",
    "plt.ylabel('Unemployment in 1995')\n",
    "plt.xlabel( 'Drictrict code' )\n",
    "plt.show()"
   ]
  },
  {
   "cell_type": "code",
   "execution_count": 95,
   "metadata": {},
   "outputs": [
    {
     "data": {
      "image/png": "[encoded data removed]",
      "text/plain": [
       "<matplotlib.figure.Figure at 0x276df8e1f98>"
      ]
     },
     "metadata": {},
     "output_type": "display_data"
    }
   ],
   "source": [
    "plt.plot(district.districtCode, district.unemp96, '-ok')\n",
    "plt.ylabel('Unemployment in 1996')\n",
    "plt.xlabel( 'Drictrict code' )\n",
    "plt.show()"
   ]
  },
  {
   "cell_type": "code",
   "execution_count": 96,
   "metadata": {
    "collapsed": true
   },
   "outputs": [],
   "source": [
    "temp = district[district.unemp96 > 6]"
   ]
  },
  {
   "cell_type": "code",
   "execution_count": 97,
   "metadata": {},
   "outputs": [
    {
     "data": {
      "text/plain": [
       "array([33, 34, 38, 39, 40, 67, 69, 70], dtype=int64)"
      ]
     },
     "execution_count": 97,
     "metadata": {},
     "output_type": "execute_result"
    }
   ],
   "source": [
    "# Districts with Umemp rate more than 6 in 1996\n",
    "temp.districtCode.unique()"
   ]
  },
  {
   "cell_type": "markdown",
   "metadata": {},
   "source": [
    " ## Flagging high risk clients "
   ]
  },
  {
   "cell_type": "markdown",
   "metadata": {},
   "source": [
    "###### The aim is to create a dataset with exsisting information and attributes from various tables to predict High Risk clients"
   ]
  },
  {
   "cell_type": "markdown",
   "metadata": {},
   "source": [
    "The dataset I am trying to achieve for my data modelling, columns are as follows:-\n",
    "\n",
    "'clientType' - Type of client\n",
    "\n",
    "'districtCode' - District code of the account\n",
    "\n",
    "'sex' - Sexual orientation of the client\n",
    "\n",
    "'age'- Age of the client till 1999\n",
    "\n",
    "'HighValueFlag' - Label - client possesing gold cards.\n",
    "\n",
    "'frequncyoftrans' - Frequency of transaction done by client.\n",
    "\n",
    "'avgsalary' - Average salary of that district.\n",
    "\n",
    "'unemp95' - Unemploment rate in the district during 1995\n",
    "\n",
    "'unemp96' - Unemploment rate in the district during 1996\n",
    "\n",
    "'entrepreneurs' - No. of entrepreneurs per 1000 inhabitants in the district\n",
    "\n",
    "'crimes95' - Crime rate in the district during 1995\n",
    "\n",
    "'crimes96' - Crime rate in the district during 1995\n",
    "\n",
    "'accSameDistrictflag' - Does the client live in the same district as the account flag\n",
    "\n",
    "'directDebitAmount' - Direct order total made by the client\n",
    "\n",
    "'loanAmount' - Loan amount if any\n",
    "\n",
    "'loanDuration' - loan duration if any\n",
    "\n",
    "'HighRiskFlag' - Label - client with loan status 'B'."
   ]
  },
  {
   "cell_type": "code",
   "execution_count": 98,
   "metadata": {
    "collapsed": true
   },
   "outputs": [],
   "source": [
    "#calculate transaction frequecy\n",
    "transfreq = transaction.groupby('account_id').count()"
   ]
  },
  {
   "cell_type": "code",
   "execution_count": 99,
   "metadata": {
    "collapsed": true
   },
   "outputs": [],
   "source": [
    "TransactionFreq = pd.DataFrame(transfreq['trans_id'],transfreq.index)"
   ]
  },
  {
   "cell_type": "code",
   "execution_count": 100,
   "metadata": {
    "collapsed": true
   },
   "outputs": [],
   "source": [
    "TransactionFreq['account_id'] = TransactionFreq.index"
   ]
  },
  {
   "cell_type": "code",
   "execution_count": 101,
   "metadata": {
    "collapsed": true
   },
   "outputs": [],
   "source": [
    "join_1 = pd.merge(join3, TransactionFreq, on='account_id', how='outer')"
   ]
  },
  {
   "cell_type": "code",
   "execution_count": 102,
   "metadata": {},
   "outputs": [
    {
     "data": {
      "text/plain": [
       "Index(['account_id', 'district_id_account', 'statement', 'dateopening',\n",
       "       'ageofaccount', 'disp_id', 'client_id', 'type_x', 'district_id_client',\n",
       "       'sex', 'dob', 'age', 'card_id', 'type_y', 'issued', 'trans_id'],\n",
       "      dtype='object')"
      ]
     },
     "execution_count": 102,
     "metadata": {},
     "output_type": "execute_result"
    }
   ],
   "source": [
    "join_1.columns"
   ]
  },
  {
   "cell_type": "code",
   "execution_count": 103,
   "metadata": {
    "collapsed": true
   },
   "outputs": [],
   "source": [
    "join_1.columns =['account_id', 'districtCode', 'statement', 'dateopening',\n",
    "       'ageofaccount', 'disp_id', 'client_id', 'type_x', 'district_id_client',\n",
    "       'sex', 'dob', 'age', 'card_id', 'type_y', 'issued', 'frequncyoftrans']"
   ]
  },
  {
   "cell_type": "code",
   "execution_count": 104,
   "metadata": {
    "collapsed": true
   },
   "outputs": [],
   "source": [
    "join_2 = pd.merge(join_1, district, on = 'districtCode', how = 'outer')"
   ]
  },
  {
   "cell_type": "code",
   "execution_count": 105,
   "metadata": {},
   "outputs": [
    {
     "data": {
      "text/html": [
       "<div>\n",
       "<style>\n",
       "    .dataframe thead tr:only-child th {\n",
       "        text-align: right;\n",
       "    }\n",
       "\n",
       "    .dataframe thead th {\n",
       "        text-align: left;\n",
       "    }\n",
       "\n",
       "    .dataframe tbody tr th {\n",
       "        vertical-align: top;\n",
       "    }\n",
       "</style>\n",
       "<table border=\"1\" class=\"dataframe\">\n",
       "  <thead>\n",
       "    <tr style=\"text-align: right;\">\n",
       "      <th></th>\n",
       "      <th>account_id</th>\n",
       "      <th>districtCode</th>\n",
       "      <th>statement</th>\n",
       "      <th>dateopening</th>\n",
       "      <th>ageofaccount</th>\n",
       "      <th>disp_id</th>\n",
       "      <th>client_id</th>\n",
       "      <th>type_x</th>\n",
       "      <th>district_id_client</th>\n",
       "      <th>sex</th>\n",
       "      <th>...</th>\n",
       "      <th>a7</th>\n",
       "      <th>a8</th>\n",
       "      <th>noofcities</th>\n",
       "      <th>ratioofurbaninhabitants</th>\n",
       "      <th>avgsalary</th>\n",
       "      <th>unemp95</th>\n",
       "      <th>unemp96</th>\n",
       "      <th>entrepreneurs</th>\n",
       "      <th>crimes95</th>\n",
       "      <th>crimes96</th>\n",
       "    </tr>\n",
       "  </thead>\n",
       "  <tbody>\n",
       "    <tr>\n",
       "      <th>0</th>\n",
       "      <td>576</td>\n",
       "      <td>55</td>\n",
       "      <td>monthly</td>\n",
       "      <td>1993-01-01</td>\n",
       "      <td>6</td>\n",
       "      <td>692</td>\n",
       "      <td>692</td>\n",
       "      <td>OWNER</td>\n",
       "      <td>74</td>\n",
       "      <td>F</td>\n",
       "      <td>...</td>\n",
       "      <td>18</td>\n",
       "      <td>0</td>\n",
       "      <td>9</td>\n",
       "      <td>33.9</td>\n",
       "      <td>8743</td>\n",
       "      <td>1.88</td>\n",
       "      <td>2.43</td>\n",
       "      <td>111</td>\n",
       "      <td>3659.0</td>\n",
       "      <td>3894</td>\n",
       "    </tr>\n",
       "    <tr>\n",
       "      <th>1</th>\n",
       "      <td>576</td>\n",
       "      <td>55</td>\n",
       "      <td>monthly</td>\n",
       "      <td>1993-01-01</td>\n",
       "      <td>6</td>\n",
       "      <td>693</td>\n",
       "      <td>693</td>\n",
       "      <td>DISPONENT</td>\n",
       "      <td>74</td>\n",
       "      <td>M</td>\n",
       "      <td>...</td>\n",
       "      <td>18</td>\n",
       "      <td>0</td>\n",
       "      <td>9</td>\n",
       "      <td>33.9</td>\n",
       "      <td>8743</td>\n",
       "      <td>1.88</td>\n",
       "      <td>2.43</td>\n",
       "      <td>111</td>\n",
       "      <td>3659.0</td>\n",
       "      <td>3894</td>\n",
       "    </tr>\n",
       "    <tr>\n",
       "      <th>2</th>\n",
       "      <td>704</td>\n",
       "      <td>55</td>\n",
       "      <td>monthly</td>\n",
       "      <td>1993-01-01</td>\n",
       "      <td>6</td>\n",
       "      <td>844</td>\n",
       "      <td>844</td>\n",
       "      <td>OWNER</td>\n",
       "      <td>22</td>\n",
       "      <td>M</td>\n",
       "      <td>...</td>\n",
       "      <td>18</td>\n",
       "      <td>0</td>\n",
       "      <td>9</td>\n",
       "      <td>33.9</td>\n",
       "      <td>8743</td>\n",
       "      <td>1.88</td>\n",
       "      <td>2.43</td>\n",
       "      <td>111</td>\n",
       "      <td>3659.0</td>\n",
       "      <td>3894</td>\n",
       "    </tr>\n",
       "    <tr>\n",
       "      <th>3</th>\n",
       "      <td>704</td>\n",
       "      <td>55</td>\n",
       "      <td>monthly</td>\n",
       "      <td>1993-01-01</td>\n",
       "      <td>6</td>\n",
       "      <td>845</td>\n",
       "      <td>845</td>\n",
       "      <td>DISPONENT</td>\n",
       "      <td>22</td>\n",
       "      <td>F</td>\n",
       "      <td>...</td>\n",
       "      <td>18</td>\n",
       "      <td>0</td>\n",
       "      <td>9</td>\n",
       "      <td>33.9</td>\n",
       "      <td>8743</td>\n",
       "      <td>1.88</td>\n",
       "      <td>2.43</td>\n",
       "      <td>111</td>\n",
       "      <td>3659.0</td>\n",
       "      <td>3894</td>\n",
       "    </tr>\n",
       "    <tr>\n",
       "      <th>4</th>\n",
       "      <td>192</td>\n",
       "      <td>55</td>\n",
       "      <td>monthly</td>\n",
       "      <td>1993-01-08</td>\n",
       "      <td>6</td>\n",
       "      <td>232</td>\n",
       "      <td>232</td>\n",
       "      <td>OWNER</td>\n",
       "      <td>55</td>\n",
       "      <td>F</td>\n",
       "      <td>...</td>\n",
       "      <td>18</td>\n",
       "      <td>0</td>\n",
       "      <td>9</td>\n",
       "      <td>33.9</td>\n",
       "      <td>8743</td>\n",
       "      <td>1.88</td>\n",
       "      <td>2.43</td>\n",
       "      <td>111</td>\n",
       "      <td>3659.0</td>\n",
       "      <td>3894</td>\n",
       "    </tr>\n",
       "  </tbody>\n",
       "</table>\n",
       "<p>5 rows × 31 columns</p>\n",
       "</div>"
      ],
      "text/plain": [
       "   account_id  districtCode statement dateopening  ageofaccount  disp_id  \\\n",
       "0         576            55   monthly  1993-01-01             6      692   \n",
       "1         576            55   monthly  1993-01-01             6      693   \n",
       "2         704            55   monthly  1993-01-01             6      844   \n",
       "3         704            55   monthly  1993-01-01             6      845   \n",
       "4         192            55   monthly  1993-01-08             6      232   \n",
       "\n",
       "   client_id     type_x  district_id_client sex    ...     a7  a8  noofcities  \\\n",
       "0        692      OWNER                  74   F    ...     18   0           9   \n",
       "1        693  DISPONENT                  74   M    ...     18   0           9   \n",
       "2        844      OWNER                  22   M    ...     18   0           9   \n",
       "3        845  DISPONENT                  22   F    ...     18   0           9   \n",
       "4        232      OWNER                  55   F    ...     18   0           9   \n",
       "\n",
       "  ratioofurbaninhabitants avgsalary  unemp95 unemp96 entrepreneurs  crimes95  \\\n",
       "0                    33.9      8743     1.88    2.43           111    3659.0   \n",
       "1                    33.9      8743     1.88    2.43           111    3659.0   \n",
       "2                    33.9      8743     1.88    2.43           111    3659.0   \n",
       "3                    33.9      8743     1.88    2.43           111    3659.0   \n",
       "4                    33.9      8743     1.88    2.43           111    3659.0   \n",
       "\n",
       "   crimes96  \n",
       "0      3894  \n",
       "1      3894  \n",
       "2      3894  \n",
       "3      3894  \n",
       "4      3894  \n",
       "\n",
       "[5 rows x 31 columns]"
      ]
     },
     "execution_count": 105,
     "metadata": {},
     "output_type": "execute_result"
    }
   ],
   "source": [
    "join_2.head()"
   ]
  },
  {
   "cell_type": "code",
   "execution_count": 106,
   "metadata": {
    "collapsed": true
   },
   "outputs": [],
   "source": [
    "join_2['sameDistrict'] = join_2.district_id_client == join_2.districtCode"
   ]
  },
  {
   "cell_type": "code",
   "execution_count": 107,
   "metadata": {},
   "outputs": [
    {
     "data": {
      "text/html": [
       "<div>\n",
       "<style>\n",
       "    .dataframe thead tr:only-child th {\n",
       "        text-align: right;\n",
       "    }\n",
       "\n",
       "    .dataframe thead th {\n",
       "        text-align: left;\n",
       "    }\n",
       "\n",
       "    .dataframe tbody tr th {\n",
       "        vertical-align: top;\n",
       "    }\n",
       "</style>\n",
       "<table border=\"1\" class=\"dataframe\">\n",
       "  <thead>\n",
       "    <tr style=\"text-align: right;\">\n",
       "      <th></th>\n",
       "      <th>account_id</th>\n",
       "      <th>districtCode</th>\n",
       "      <th>statement</th>\n",
       "      <th>dateopening</th>\n",
       "      <th>ageofaccount</th>\n",
       "      <th>disp_id</th>\n",
       "      <th>client_id</th>\n",
       "      <th>type_x</th>\n",
       "      <th>district_id_client</th>\n",
       "      <th>sex</th>\n",
       "      <th>...</th>\n",
       "      <th>a8</th>\n",
       "      <th>noofcities</th>\n",
       "      <th>ratioofurbaninhabitants</th>\n",
       "      <th>avgsalary</th>\n",
       "      <th>unemp95</th>\n",
       "      <th>unemp96</th>\n",
       "      <th>entrepreneurs</th>\n",
       "      <th>crimes95</th>\n",
       "      <th>crimes96</th>\n",
       "      <th>sameDistrict</th>\n",
       "    </tr>\n",
       "  </thead>\n",
       "  <tbody>\n",
       "    <tr>\n",
       "      <th>0</th>\n",
       "      <td>576</td>\n",
       "      <td>55</td>\n",
       "      <td>monthly</td>\n",
       "      <td>1993-01-01</td>\n",
       "      <td>6</td>\n",
       "      <td>692</td>\n",
       "      <td>692</td>\n",
       "      <td>OWNER</td>\n",
       "      <td>74</td>\n",
       "      <td>F</td>\n",
       "      <td>...</td>\n",
       "      <td>0</td>\n",
       "      <td>9</td>\n",
       "      <td>33.9</td>\n",
       "      <td>8743</td>\n",
       "      <td>1.88</td>\n",
       "      <td>2.43</td>\n",
       "      <td>111</td>\n",
       "      <td>3659.0</td>\n",
       "      <td>3894</td>\n",
       "      <td>False</td>\n",
       "    </tr>\n",
       "    <tr>\n",
       "      <th>1</th>\n",
       "      <td>576</td>\n",
       "      <td>55</td>\n",
       "      <td>monthly</td>\n",
       "      <td>1993-01-01</td>\n",
       "      <td>6</td>\n",
       "      <td>693</td>\n",
       "      <td>693</td>\n",
       "      <td>DISPONENT</td>\n",
       "      <td>74</td>\n",
       "      <td>M</td>\n",
       "      <td>...</td>\n",
       "      <td>0</td>\n",
       "      <td>9</td>\n",
       "      <td>33.9</td>\n",
       "      <td>8743</td>\n",
       "      <td>1.88</td>\n",
       "      <td>2.43</td>\n",
       "      <td>111</td>\n",
       "      <td>3659.0</td>\n",
       "      <td>3894</td>\n",
       "      <td>False</td>\n",
       "    </tr>\n",
       "    <tr>\n",
       "      <th>2</th>\n",
       "      <td>704</td>\n",
       "      <td>55</td>\n",
       "      <td>monthly</td>\n",
       "      <td>1993-01-01</td>\n",
       "      <td>6</td>\n",
       "      <td>844</td>\n",
       "      <td>844</td>\n",
       "      <td>OWNER</td>\n",
       "      <td>22</td>\n",
       "      <td>M</td>\n",
       "      <td>...</td>\n",
       "      <td>0</td>\n",
       "      <td>9</td>\n",
       "      <td>33.9</td>\n",
       "      <td>8743</td>\n",
       "      <td>1.88</td>\n",
       "      <td>2.43</td>\n",
       "      <td>111</td>\n",
       "      <td>3659.0</td>\n",
       "      <td>3894</td>\n",
       "      <td>False</td>\n",
       "    </tr>\n",
       "    <tr>\n",
       "      <th>3</th>\n",
       "      <td>704</td>\n",
       "      <td>55</td>\n",
       "      <td>monthly</td>\n",
       "      <td>1993-01-01</td>\n",
       "      <td>6</td>\n",
       "      <td>845</td>\n",
       "      <td>845</td>\n",
       "      <td>DISPONENT</td>\n",
       "      <td>22</td>\n",
       "      <td>F</td>\n",
       "      <td>...</td>\n",
       "      <td>0</td>\n",
       "      <td>9</td>\n",
       "      <td>33.9</td>\n",
       "      <td>8743</td>\n",
       "      <td>1.88</td>\n",
       "      <td>2.43</td>\n",
       "      <td>111</td>\n",
       "      <td>3659.0</td>\n",
       "      <td>3894</td>\n",
       "      <td>False</td>\n",
       "    </tr>\n",
       "    <tr>\n",
       "      <th>4</th>\n",
       "      <td>192</td>\n",
       "      <td>55</td>\n",
       "      <td>monthly</td>\n",
       "      <td>1993-01-08</td>\n",
       "      <td>6</td>\n",
       "      <td>232</td>\n",
       "      <td>232</td>\n",
       "      <td>OWNER</td>\n",
       "      <td>55</td>\n",
       "      <td>F</td>\n",
       "      <td>...</td>\n",
       "      <td>0</td>\n",
       "      <td>9</td>\n",
       "      <td>33.9</td>\n",
       "      <td>8743</td>\n",
       "      <td>1.88</td>\n",
       "      <td>2.43</td>\n",
       "      <td>111</td>\n",
       "      <td>3659.0</td>\n",
       "      <td>3894</td>\n",
       "      <td>True</td>\n",
       "    </tr>\n",
       "  </tbody>\n",
       "</table>\n",
       "<p>5 rows × 32 columns</p>\n",
       "</div>"
      ],
      "text/plain": [
       "   account_id  districtCode statement dateopening  ageofaccount  disp_id  \\\n",
       "0         576            55   monthly  1993-01-01             6      692   \n",
       "1         576            55   monthly  1993-01-01             6      693   \n",
       "2         704            55   monthly  1993-01-01             6      844   \n",
       "3         704            55   monthly  1993-01-01             6      845   \n",
       "4         192            55   monthly  1993-01-08             6      232   \n",
       "\n",
       "   client_id     type_x  district_id_client sex      ...      a8  noofcities  \\\n",
       "0        692      OWNER                  74   F      ...       0           9   \n",
       "1        693  DISPONENT                  74   M      ...       0           9   \n",
       "2        844      OWNER                  22   M      ...       0           9   \n",
       "3        845  DISPONENT                  22   F      ...       0           9   \n",
       "4        232      OWNER                  55   F      ...       0           9   \n",
       "\n",
       "   ratioofurbaninhabitants avgsalary unemp95  unemp96 entrepreneurs crimes95  \\\n",
       "0                     33.9      8743    1.88     2.43           111   3659.0   \n",
       "1                     33.9      8743    1.88     2.43           111   3659.0   \n",
       "2                     33.9      8743    1.88     2.43           111   3659.0   \n",
       "3                     33.9      8743    1.88     2.43           111   3659.0   \n",
       "4                     33.9      8743    1.88     2.43           111   3659.0   \n",
       "\n",
       "   crimes96  sameDistrict  \n",
       "0      3894         False  \n",
       "1      3894         False  \n",
       "2      3894         False  \n",
       "3      3894         False  \n",
       "4      3894          True  \n",
       "\n",
       "[5 rows x 32 columns]"
      ]
     },
     "execution_count": 107,
     "metadata": {},
     "output_type": "execute_result"
    }
   ],
   "source": [
    "join_2.head()"
   ]
  },
  {
   "cell_type": "code",
   "execution_count": 108,
   "metadata": {
    "collapsed": true
   },
   "outputs": [],
   "source": [
    "join_3 = pd.merge(join_2, orderbySum, on = 'account_id', how = 'outer')"
   ]
  },
  {
   "cell_type": "code",
   "execution_count": 109,
   "metadata": {},
   "outputs": [
    {
     "data": {
      "text/html": [
       "<div>\n",
       "<style>\n",
       "    .dataframe thead tr:only-child th {\n",
       "        text-align: right;\n",
       "    }\n",
       "\n",
       "    .dataframe thead th {\n",
       "        text-align: left;\n",
       "    }\n",
       "\n",
       "    .dataframe tbody tr th {\n",
       "        vertical-align: top;\n",
       "    }\n",
       "</style>\n",
       "<table border=\"1\" class=\"dataframe\">\n",
       "  <thead>\n",
       "    <tr style=\"text-align: right;\">\n",
       "      <th></th>\n",
       "      <th>account_id</th>\n",
       "      <th>districtCode</th>\n",
       "      <th>statement</th>\n",
       "      <th>dateopening</th>\n",
       "      <th>ageofaccount</th>\n",
       "      <th>disp_id</th>\n",
       "      <th>client_id</th>\n",
       "      <th>type_x</th>\n",
       "      <th>district_id_client</th>\n",
       "      <th>sex</th>\n",
       "      <th>...</th>\n",
       "      <th>noofcities</th>\n",
       "      <th>ratioofurbaninhabitants</th>\n",
       "      <th>avgsalary</th>\n",
       "      <th>unemp95</th>\n",
       "      <th>unemp96</th>\n",
       "      <th>entrepreneurs</th>\n",
       "      <th>crimes95</th>\n",
       "      <th>crimes96</th>\n",
       "      <th>sameDistrict</th>\n",
       "      <th>amount</th>\n",
       "    </tr>\n",
       "  </thead>\n",
       "  <tbody>\n",
       "    <tr>\n",
       "      <th>0</th>\n",
       "      <td>576</td>\n",
       "      <td>55</td>\n",
       "      <td>monthly</td>\n",
       "      <td>1993-01-01</td>\n",
       "      <td>6</td>\n",
       "      <td>692</td>\n",
       "      <td>692</td>\n",
       "      <td>OWNER</td>\n",
       "      <td>74</td>\n",
       "      <td>F</td>\n",
       "      <td>...</td>\n",
       "      <td>9</td>\n",
       "      <td>33.9</td>\n",
       "      <td>8743</td>\n",
       "      <td>1.88</td>\n",
       "      <td>2.43</td>\n",
       "      <td>111</td>\n",
       "      <td>3659.0</td>\n",
       "      <td>3894</td>\n",
       "      <td>False</td>\n",
       "      <td>3662.0</td>\n",
       "    </tr>\n",
       "    <tr>\n",
       "      <th>1</th>\n",
       "      <td>576</td>\n",
       "      <td>55</td>\n",
       "      <td>monthly</td>\n",
       "      <td>1993-01-01</td>\n",
       "      <td>6</td>\n",
       "      <td>693</td>\n",
       "      <td>693</td>\n",
       "      <td>DISPONENT</td>\n",
       "      <td>74</td>\n",
       "      <td>M</td>\n",
       "      <td>...</td>\n",
       "      <td>9</td>\n",
       "      <td>33.9</td>\n",
       "      <td>8743</td>\n",
       "      <td>1.88</td>\n",
       "      <td>2.43</td>\n",
       "      <td>111</td>\n",
       "      <td>3659.0</td>\n",
       "      <td>3894</td>\n",
       "      <td>False</td>\n",
       "      <td>3662.0</td>\n",
       "    </tr>\n",
       "    <tr>\n",
       "      <th>2</th>\n",
       "      <td>704</td>\n",
       "      <td>55</td>\n",
       "      <td>monthly</td>\n",
       "      <td>1993-01-01</td>\n",
       "      <td>6</td>\n",
       "      <td>844</td>\n",
       "      <td>844</td>\n",
       "      <td>OWNER</td>\n",
       "      <td>22</td>\n",
       "      <td>M</td>\n",
       "      <td>...</td>\n",
       "      <td>9</td>\n",
       "      <td>33.9</td>\n",
       "      <td>8743</td>\n",
       "      <td>1.88</td>\n",
       "      <td>2.43</td>\n",
       "      <td>111</td>\n",
       "      <td>3659.0</td>\n",
       "      <td>3894</td>\n",
       "      <td>False</td>\n",
       "      <td>3338.0</td>\n",
       "    </tr>\n",
       "    <tr>\n",
       "      <th>3</th>\n",
       "      <td>704</td>\n",
       "      <td>55</td>\n",
       "      <td>monthly</td>\n",
       "      <td>1993-01-01</td>\n",
       "      <td>6</td>\n",
       "      <td>845</td>\n",
       "      <td>845</td>\n",
       "      <td>DISPONENT</td>\n",
       "      <td>22</td>\n",
       "      <td>F</td>\n",
       "      <td>...</td>\n",
       "      <td>9</td>\n",
       "      <td>33.9</td>\n",
       "      <td>8743</td>\n",
       "      <td>1.88</td>\n",
       "      <td>2.43</td>\n",
       "      <td>111</td>\n",
       "      <td>3659.0</td>\n",
       "      <td>3894</td>\n",
       "      <td>False</td>\n",
       "      <td>3338.0</td>\n",
       "    </tr>\n",
       "    <tr>\n",
       "      <th>4</th>\n",
       "      <td>192</td>\n",
       "      <td>55</td>\n",
       "      <td>monthly</td>\n",
       "      <td>1993-01-08</td>\n",
       "      <td>6</td>\n",
       "      <td>232</td>\n",
       "      <td>232</td>\n",
       "      <td>OWNER</td>\n",
       "      <td>55</td>\n",
       "      <td>F</td>\n",
       "      <td>...</td>\n",
       "      <td>9</td>\n",
       "      <td>33.9</td>\n",
       "      <td>8743</td>\n",
       "      <td>1.88</td>\n",
       "      <td>2.43</td>\n",
       "      <td>111</td>\n",
       "      <td>3659.0</td>\n",
       "      <td>3894</td>\n",
       "      <td>True</td>\n",
       "      <td>3583.0</td>\n",
       "    </tr>\n",
       "  </tbody>\n",
       "</table>\n",
       "<p>5 rows × 33 columns</p>\n",
       "</div>"
      ],
      "text/plain": [
       "   account_id  districtCode statement dateopening  ageofaccount  disp_id  \\\n",
       "0         576            55   monthly  1993-01-01             6      692   \n",
       "1         576            55   monthly  1993-01-01             6      693   \n",
       "2         704            55   monthly  1993-01-01             6      844   \n",
       "3         704            55   monthly  1993-01-01             6      845   \n",
       "4         192            55   monthly  1993-01-08             6      232   \n",
       "\n",
       "   client_id     type_x  district_id_client sex   ...   noofcities  \\\n",
       "0        692      OWNER                  74   F   ...            9   \n",
       "1        693  DISPONENT                  74   M   ...            9   \n",
       "2        844      OWNER                  22   M   ...            9   \n",
       "3        845  DISPONENT                  22   F   ...            9   \n",
       "4        232      OWNER                  55   F   ...            9   \n",
       "\n",
       "   ratioofurbaninhabitants  avgsalary unemp95 unemp96  entrepreneurs crimes95  \\\n",
       "0                     33.9       8743    1.88    2.43            111   3659.0   \n",
       "1                     33.9       8743    1.88    2.43            111   3659.0   \n",
       "2                     33.9       8743    1.88    2.43            111   3659.0   \n",
       "3                     33.9       8743    1.88    2.43            111   3659.0   \n",
       "4                     33.9       8743    1.88    2.43            111   3659.0   \n",
       "\n",
       "  crimes96  sameDistrict  amount  \n",
       "0     3894         False  3662.0  \n",
       "1     3894         False  3662.0  \n",
       "2     3894         False  3338.0  \n",
       "3     3894         False  3338.0  \n",
       "4     3894          True  3583.0  \n",
       "\n",
       "[5 rows x 33 columns]"
      ]
     },
     "execution_count": 109,
     "metadata": {},
     "output_type": "execute_result"
    }
   ],
   "source": [
    "join_3.head()"
   ]
  },
  {
   "cell_type": "code",
   "execution_count": 110,
   "metadata": {
    "scrolled": true
   },
   "outputs": [
    {
     "data": {
      "text/plain": [
       "Index(['account_id', 'districtCode', 'statement', 'dateopening',\n",
       "       'ageofaccount', 'disp_id', 'client_id', 'type_x', 'district_id_client',\n",
       "       'sex', 'dob', 'age', 'card_id', 'type_y', 'issued', 'frequncyoftrans',\n",
       "       'districtName', 'region', 'noofinhabitant', 'a5', 'a6', 'a7', 'a8',\n",
       "       'noofcities', 'ratioofurbaninhabitants', 'avgsalary', 'unemp95',\n",
       "       'unemp96', 'entrepreneurs', 'crimes95', 'crimes96', 'sameDistrict',\n",
       "       'amount'],\n",
       "      dtype='object')"
      ]
     },
     "execution_count": 110,
     "metadata": {},
     "output_type": "execute_result"
    }
   ],
   "source": [
    "join_3.columns"
   ]
  },
  {
   "cell_type": "code",
   "execution_count": 111,
   "metadata": {
    "collapsed": true
   },
   "outputs": [],
   "source": [
    "join_3_v1 = join_3.drop(['district_id_client', 'statement', 'dateopening','dob','card_id','issued', 'districtName', 'region',\n",
    "       'noofinhabitant', 'a5', 'a6', 'a7', 'a8', 'noofcities','ratioofurbaninhabitants'], axis =1)"
   ]
  },
  {
   "cell_type": "code",
   "execution_count": 112,
   "metadata": {},
   "outputs": [
    {
     "data": {
      "text/html": [
       "<div>\n",
       "<style>\n",
       "    .dataframe thead tr:only-child th {\n",
       "        text-align: right;\n",
       "    }\n",
       "\n",
       "    .dataframe thead th {\n",
       "        text-align: left;\n",
       "    }\n",
       "\n",
       "    .dataframe tbody tr th {\n",
       "        vertical-align: top;\n",
       "    }\n",
       "</style>\n",
       "<table border=\"1\" class=\"dataframe\">\n",
       "  <thead>\n",
       "    <tr style=\"text-align: right;\">\n",
       "      <th></th>\n",
       "      <th>account_id</th>\n",
       "      <th>districtCode</th>\n",
       "      <th>ageofaccount</th>\n",
       "      <th>disp_id</th>\n",
       "      <th>client_id</th>\n",
       "      <th>type_x</th>\n",
       "      <th>sex</th>\n",
       "      <th>age</th>\n",
       "      <th>type_y</th>\n",
       "      <th>frequncyoftrans</th>\n",
       "      <th>avgsalary</th>\n",
       "      <th>unemp95</th>\n",
       "      <th>unemp96</th>\n",
       "      <th>entrepreneurs</th>\n",
       "      <th>crimes95</th>\n",
       "      <th>crimes96</th>\n",
       "      <th>sameDistrict</th>\n",
       "      <th>amount</th>\n",
       "    </tr>\n",
       "  </thead>\n",
       "  <tbody>\n",
       "    <tr>\n",
       "      <th>0</th>\n",
       "      <td>576</td>\n",
       "      <td>55</td>\n",
       "      <td>6</td>\n",
       "      <td>692</td>\n",
       "      <td>692</td>\n",
       "      <td>OWNER</td>\n",
       "      <td>F</td>\n",
       "      <td>63</td>\n",
       "      <td>NaN</td>\n",
       "      <td>358</td>\n",
       "      <td>8743</td>\n",
       "      <td>1.88</td>\n",
       "      <td>2.43</td>\n",
       "      <td>111</td>\n",
       "      <td>3659.0</td>\n",
       "      <td>3894</td>\n",
       "      <td>False</td>\n",
       "      <td>3662.0</td>\n",
       "    </tr>\n",
       "    <tr>\n",
       "      <th>1</th>\n",
       "      <td>576</td>\n",
       "      <td>55</td>\n",
       "      <td>6</td>\n",
       "      <td>693</td>\n",
       "      <td>693</td>\n",
       "      <td>DISPONENT</td>\n",
       "      <td>M</td>\n",
       "      <td>64</td>\n",
       "      <td>NaN</td>\n",
       "      <td>358</td>\n",
       "      <td>8743</td>\n",
       "      <td>1.88</td>\n",
       "      <td>2.43</td>\n",
       "      <td>111</td>\n",
       "      <td>3659.0</td>\n",
       "      <td>3894</td>\n",
       "      <td>False</td>\n",
       "      <td>3662.0</td>\n",
       "    </tr>\n",
       "    <tr>\n",
       "      <th>2</th>\n",
       "      <td>704</td>\n",
       "      <td>55</td>\n",
       "      <td>6</td>\n",
       "      <td>844</td>\n",
       "      <td>844</td>\n",
       "      <td>OWNER</td>\n",
       "      <td>M</td>\n",
       "      <td>54</td>\n",
       "      <td>NaN</td>\n",
       "      <td>479</td>\n",
       "      <td>8743</td>\n",
       "      <td>1.88</td>\n",
       "      <td>2.43</td>\n",
       "      <td>111</td>\n",
       "      <td>3659.0</td>\n",
       "      <td>3894</td>\n",
       "      <td>False</td>\n",
       "      <td>3338.0</td>\n",
       "    </tr>\n",
       "    <tr>\n",
       "      <th>3</th>\n",
       "      <td>704</td>\n",
       "      <td>55</td>\n",
       "      <td>6</td>\n",
       "      <td>845</td>\n",
       "      <td>845</td>\n",
       "      <td>DISPONENT</td>\n",
       "      <td>F</td>\n",
       "      <td>46</td>\n",
       "      <td>NaN</td>\n",
       "      <td>479</td>\n",
       "      <td>8743</td>\n",
       "      <td>1.88</td>\n",
       "      <td>2.43</td>\n",
       "      <td>111</td>\n",
       "      <td>3659.0</td>\n",
       "      <td>3894</td>\n",
       "      <td>False</td>\n",
       "      <td>3338.0</td>\n",
       "    </tr>\n",
       "    <tr>\n",
       "      <th>4</th>\n",
       "      <td>192</td>\n",
       "      <td>55</td>\n",
       "      <td>6</td>\n",
       "      <td>232</td>\n",
       "      <td>232</td>\n",
       "      <td>OWNER</td>\n",
       "      <td>F</td>\n",
       "      <td>78</td>\n",
       "      <td>NaN</td>\n",
       "      <td>349</td>\n",
       "      <td>8743</td>\n",
       "      <td>1.88</td>\n",
       "      <td>2.43</td>\n",
       "      <td>111</td>\n",
       "      <td>3659.0</td>\n",
       "      <td>3894</td>\n",
       "      <td>True</td>\n",
       "      <td>3583.0</td>\n",
       "    </tr>\n",
       "  </tbody>\n",
       "</table>\n",
       "</div>"
      ],
      "text/plain": [
       "   account_id  districtCode  ageofaccount  disp_id  client_id     type_x sex  \\\n",
       "0         576            55             6      692        692      OWNER   F   \n",
       "1         576            55             6      693        693  DISPONENT   M   \n",
       "2         704            55             6      844        844      OWNER   M   \n",
       "3         704            55             6      845        845  DISPONENT   F   \n",
       "4         192            55             6      232        232      OWNER   F   \n",
       "\n",
       "   age type_y  frequncyoftrans  avgsalary  unemp95  unemp96  entrepreneurs  \\\n",
       "0   63    NaN              358       8743     1.88     2.43            111   \n",
       "1   64    NaN              358       8743     1.88     2.43            111   \n",
       "2   54    NaN              479       8743     1.88     2.43            111   \n",
       "3   46    NaN              479       8743     1.88     2.43            111   \n",
       "4   78    NaN              349       8743     1.88     2.43            111   \n",
       "\n",
       "   crimes95  crimes96  sameDistrict  amount  \n",
       "0    3659.0      3894         False  3662.0  \n",
       "1    3659.0      3894         False  3662.0  \n",
       "2    3659.0      3894         False  3338.0  \n",
       "3    3659.0      3894         False  3338.0  \n",
       "4    3659.0      3894          True  3583.0  "
      ]
     },
     "execution_count": 112,
     "metadata": {},
     "output_type": "execute_result"
    }
   ],
   "source": [
    "join_3_v1.head()"
   ]
  },
  {
   "cell_type": "code",
   "execution_count": 113,
   "metadata": {
    "collapsed": true
   },
   "outputs": [],
   "source": [
    "join_3_v1.columns = ['account_id', 'districtCode', 'ageofaccount', 'disp_id', 'client_id',\n",
    "       'clientType', 'sex', 'age', 'type_y', 'frequncyoftrans', 'avgsalary',\n",
    "       'unemp95', 'unemp96', 'entrepreneurs', 'crimes95', 'crimes96',\n",
    "       'sameDistrict', 'amount']"
   ]
  },
  {
   "cell_type": "code",
   "execution_count": 114,
   "metadata": {
    "collapsed": true
   },
   "outputs": [],
   "source": [
    "join_3_v1.fillna(0, inplace=True)"
   ]
  },
  {
   "cell_type": "code",
   "execution_count": 115,
   "metadata": {},
   "outputs": [
    {
     "data": {
      "text/html": [
       "<div>\n",
       "<style>\n",
       "    .dataframe thead tr:only-child th {\n",
       "        text-align: right;\n",
       "    }\n",
       "\n",
       "    .dataframe thead th {\n",
       "        text-align: left;\n",
       "    }\n",
       "\n",
       "    .dataframe tbody tr th {\n",
       "        vertical-align: top;\n",
       "    }\n",
       "</style>\n",
       "<table border=\"1\" class=\"dataframe\">\n",
       "  <thead>\n",
       "    <tr style=\"text-align: right;\">\n",
       "      <th></th>\n",
       "      <th>account_id</th>\n",
       "      <th>districtCode</th>\n",
       "      <th>ageofaccount</th>\n",
       "      <th>disp_id</th>\n",
       "      <th>client_id</th>\n",
       "      <th>clientType</th>\n",
       "      <th>sex</th>\n",
       "      <th>age</th>\n",
       "      <th>type_y</th>\n",
       "      <th>frequncyoftrans</th>\n",
       "      <th>avgsalary</th>\n",
       "      <th>unemp95</th>\n",
       "      <th>unemp96</th>\n",
       "      <th>entrepreneurs</th>\n",
       "      <th>crimes95</th>\n",
       "      <th>crimes96</th>\n",
       "      <th>sameDistrict</th>\n",
       "      <th>amount</th>\n",
       "    </tr>\n",
       "  </thead>\n",
       "  <tbody>\n",
       "    <tr>\n",
       "      <th>0</th>\n",
       "      <td>576</td>\n",
       "      <td>55</td>\n",
       "      <td>6</td>\n",
       "      <td>692</td>\n",
       "      <td>692</td>\n",
       "      <td>OWNER</td>\n",
       "      <td>F</td>\n",
       "      <td>63</td>\n",
       "      <td>0</td>\n",
       "      <td>358</td>\n",
       "      <td>8743</td>\n",
       "      <td>1.88</td>\n",
       "      <td>2.43</td>\n",
       "      <td>111</td>\n",
       "      <td>3659.0</td>\n",
       "      <td>3894</td>\n",
       "      <td>False</td>\n",
       "      <td>3662.0</td>\n",
       "    </tr>\n",
       "    <tr>\n",
       "      <th>1</th>\n",
       "      <td>576</td>\n",
       "      <td>55</td>\n",
       "      <td>6</td>\n",
       "      <td>693</td>\n",
       "      <td>693</td>\n",
       "      <td>DISPONENT</td>\n",
       "      <td>M</td>\n",
       "      <td>64</td>\n",
       "      <td>0</td>\n",
       "      <td>358</td>\n",
       "      <td>8743</td>\n",
       "      <td>1.88</td>\n",
       "      <td>2.43</td>\n",
       "      <td>111</td>\n",
       "      <td>3659.0</td>\n",
       "      <td>3894</td>\n",
       "      <td>False</td>\n",
       "      <td>3662.0</td>\n",
       "    </tr>\n",
       "    <tr>\n",
       "      <th>2</th>\n",
       "      <td>704</td>\n",
       "      <td>55</td>\n",
       "      <td>6</td>\n",
       "      <td>844</td>\n",
       "      <td>844</td>\n",
       "      <td>OWNER</td>\n",
       "      <td>M</td>\n",
       "      <td>54</td>\n",
       "      <td>0</td>\n",
       "      <td>479</td>\n",
       "      <td>8743</td>\n",
       "      <td>1.88</td>\n",
       "      <td>2.43</td>\n",
       "      <td>111</td>\n",
       "      <td>3659.0</td>\n",
       "      <td>3894</td>\n",
       "      <td>False</td>\n",
       "      <td>3338.0</td>\n",
       "    </tr>\n",
       "    <tr>\n",
       "      <th>3</th>\n",
       "      <td>704</td>\n",
       "      <td>55</td>\n",
       "      <td>6</td>\n",
       "      <td>845</td>\n",
       "      <td>845</td>\n",
       "      <td>DISPONENT</td>\n",
       "      <td>F</td>\n",
       "      <td>46</td>\n",
       "      <td>0</td>\n",
       "      <td>479</td>\n",
       "      <td>8743</td>\n",
       "      <td>1.88</td>\n",
       "      <td>2.43</td>\n",
       "      <td>111</td>\n",
       "      <td>3659.0</td>\n",
       "      <td>3894</td>\n",
       "      <td>False</td>\n",
       "      <td>3338.0</td>\n",
       "    </tr>\n",
       "    <tr>\n",
       "      <th>4</th>\n",
       "      <td>192</td>\n",
       "      <td>55</td>\n",
       "      <td>6</td>\n",
       "      <td>232</td>\n",
       "      <td>232</td>\n",
       "      <td>OWNER</td>\n",
       "      <td>F</td>\n",
       "      <td>78</td>\n",
       "      <td>0</td>\n",
       "      <td>349</td>\n",
       "      <td>8743</td>\n",
       "      <td>1.88</td>\n",
       "      <td>2.43</td>\n",
       "      <td>111</td>\n",
       "      <td>3659.0</td>\n",
       "      <td>3894</td>\n",
       "      <td>True</td>\n",
       "      <td>3583.0</td>\n",
       "    </tr>\n",
       "  </tbody>\n",
       "</table>\n",
       "</div>"
      ],
      "text/plain": [
       "   account_id  districtCode  ageofaccount  disp_id  client_id clientType sex  \\\n",
       "0         576            55             6      692        692      OWNER   F   \n",
       "1         576            55             6      693        693  DISPONENT   M   \n",
       "2         704            55             6      844        844      OWNER   M   \n",
       "3         704            55             6      845        845  DISPONENT   F   \n",
       "4         192            55             6      232        232      OWNER   F   \n",
       "\n",
       "   age type_y  frequncyoftrans  avgsalary  unemp95  unemp96  entrepreneurs  \\\n",
       "0   63      0              358       8743     1.88     2.43            111   \n",
       "1   64      0              358       8743     1.88     2.43            111   \n",
       "2   54      0              479       8743     1.88     2.43            111   \n",
       "3   46      0              479       8743     1.88     2.43            111   \n",
       "4   78      0              349       8743     1.88     2.43            111   \n",
       "\n",
       "   crimes95  crimes96  sameDistrict  amount  \n",
       "0    3659.0      3894         False  3662.0  \n",
       "1    3659.0      3894         False  3662.0  \n",
       "2    3659.0      3894         False  3338.0  \n",
       "3    3659.0      3894         False  3338.0  \n",
       "4    3659.0      3894          True  3583.0  "
      ]
     },
     "execution_count": 115,
     "metadata": {},
     "output_type": "execute_result"
    }
   ],
   "source": [
    "join_3_v1.head()"
   ]
  },
  {
   "cell_type": "code",
   "execution_count": 116,
   "metadata": {
    "collapsed": true
   },
   "outputs": [],
   "source": [
    "join_4 = pd.merge(join_3_v1, loan, on = 'account_id', how = 'outer')"
   ]
  },
  {
   "cell_type": "code",
   "execution_count": 117,
   "metadata": {},
   "outputs": [
    {
     "data": {
      "text/html": [
       "<div>\n",
       "<style>\n",
       "    .dataframe thead tr:only-child th {\n",
       "        text-align: right;\n",
       "    }\n",
       "\n",
       "    .dataframe thead th {\n",
       "        text-align: left;\n",
       "    }\n",
       "\n",
       "    .dataframe tbody tr th {\n",
       "        vertical-align: top;\n",
       "    }\n",
       "</style>\n",
       "<table border=\"1\" class=\"dataframe\">\n",
       "  <thead>\n",
       "    <tr style=\"text-align: right;\">\n",
       "      <th></th>\n",
       "      <th>account_id</th>\n",
       "      <th>districtCode</th>\n",
       "      <th>ageofaccount</th>\n",
       "      <th>disp_id</th>\n",
       "      <th>client_id</th>\n",
       "      <th>clientType</th>\n",
       "      <th>sex</th>\n",
       "      <th>age</th>\n",
       "      <th>type_y</th>\n",
       "      <th>frequncyoftrans</th>\n",
       "      <th>...</th>\n",
       "      <th>crimes95</th>\n",
       "      <th>crimes96</th>\n",
       "      <th>sameDistrict</th>\n",
       "      <th>amount_x</th>\n",
       "      <th>loan_id</th>\n",
       "      <th>date</th>\n",
       "      <th>amount_y</th>\n",
       "      <th>duration</th>\n",
       "      <th>payments</th>\n",
       "      <th>status</th>\n",
       "    </tr>\n",
       "  </thead>\n",
       "  <tbody>\n",
       "    <tr>\n",
       "      <th>0</th>\n",
       "      <td>576</td>\n",
       "      <td>55</td>\n",
       "      <td>6</td>\n",
       "      <td>692</td>\n",
       "      <td>692</td>\n",
       "      <td>OWNER</td>\n",
       "      <td>F</td>\n",
       "      <td>63</td>\n",
       "      <td>0</td>\n",
       "      <td>358</td>\n",
       "      <td>...</td>\n",
       "      <td>3659.0</td>\n",
       "      <td>3894</td>\n",
       "      <td>False</td>\n",
       "      <td>3662.0</td>\n",
       "      <td>NaN</td>\n",
       "      <td>NaN</td>\n",
       "      <td>NaN</td>\n",
       "      <td>NaN</td>\n",
       "      <td>NaN</td>\n",
       "      <td>NaN</td>\n",
       "    </tr>\n",
       "    <tr>\n",
       "      <th>1</th>\n",
       "      <td>576</td>\n",
       "      <td>55</td>\n",
       "      <td>6</td>\n",
       "      <td>693</td>\n",
       "      <td>693</td>\n",
       "      <td>DISPONENT</td>\n",
       "      <td>M</td>\n",
       "      <td>64</td>\n",
       "      <td>0</td>\n",
       "      <td>358</td>\n",
       "      <td>...</td>\n",
       "      <td>3659.0</td>\n",
       "      <td>3894</td>\n",
       "      <td>False</td>\n",
       "      <td>3662.0</td>\n",
       "      <td>NaN</td>\n",
       "      <td>NaN</td>\n",
       "      <td>NaN</td>\n",
       "      <td>NaN</td>\n",
       "      <td>NaN</td>\n",
       "      <td>NaN</td>\n",
       "    </tr>\n",
       "    <tr>\n",
       "      <th>2</th>\n",
       "      <td>704</td>\n",
       "      <td>55</td>\n",
       "      <td>6</td>\n",
       "      <td>844</td>\n",
       "      <td>844</td>\n",
       "      <td>OWNER</td>\n",
       "      <td>M</td>\n",
       "      <td>54</td>\n",
       "      <td>0</td>\n",
       "      <td>479</td>\n",
       "      <td>...</td>\n",
       "      <td>3659.0</td>\n",
       "      <td>3894</td>\n",
       "      <td>False</td>\n",
       "      <td>3338.0</td>\n",
       "      <td>NaN</td>\n",
       "      <td>NaN</td>\n",
       "      <td>NaN</td>\n",
       "      <td>NaN</td>\n",
       "      <td>NaN</td>\n",
       "      <td>NaN</td>\n",
       "    </tr>\n",
       "    <tr>\n",
       "      <th>3</th>\n",
       "      <td>704</td>\n",
       "      <td>55</td>\n",
       "      <td>6</td>\n",
       "      <td>845</td>\n",
       "      <td>845</td>\n",
       "      <td>DISPONENT</td>\n",
       "      <td>F</td>\n",
       "      <td>46</td>\n",
       "      <td>0</td>\n",
       "      <td>479</td>\n",
       "      <td>...</td>\n",
       "      <td>3659.0</td>\n",
       "      <td>3894</td>\n",
       "      <td>False</td>\n",
       "      <td>3338.0</td>\n",
       "      <td>NaN</td>\n",
       "      <td>NaN</td>\n",
       "      <td>NaN</td>\n",
       "      <td>NaN</td>\n",
       "      <td>NaN</td>\n",
       "      <td>NaN</td>\n",
       "    </tr>\n",
       "    <tr>\n",
       "      <th>4</th>\n",
       "      <td>192</td>\n",
       "      <td>55</td>\n",
       "      <td>6</td>\n",
       "      <td>232</td>\n",
       "      <td>232</td>\n",
       "      <td>OWNER</td>\n",
       "      <td>F</td>\n",
       "      <td>78</td>\n",
       "      <td>0</td>\n",
       "      <td>349</td>\n",
       "      <td>...</td>\n",
       "      <td>3659.0</td>\n",
       "      <td>3894</td>\n",
       "      <td>True</td>\n",
       "      <td>3583.0</td>\n",
       "      <td>NaN</td>\n",
       "      <td>NaN</td>\n",
       "      <td>NaN</td>\n",
       "      <td>NaN</td>\n",
       "      <td>NaN</td>\n",
       "      <td>NaN</td>\n",
       "    </tr>\n",
       "  </tbody>\n",
       "</table>\n",
       "<p>5 rows × 24 columns</p>\n",
       "</div>"
      ],
      "text/plain": [
       "   account_id  districtCode  ageofaccount  disp_id  client_id clientType sex  \\\n",
       "0         576            55             6      692        692      OWNER   F   \n",
       "1         576            55             6      693        693  DISPONENT   M   \n",
       "2         704            55             6      844        844      OWNER   M   \n",
       "3         704            55             6      845        845  DISPONENT   F   \n",
       "4         192            55             6      232        232      OWNER   F   \n",
       "\n",
       "   age type_y  frequncyoftrans   ...    crimes95  crimes96  sameDistrict  \\\n",
       "0   63      0              358   ...      3659.0      3894         False   \n",
       "1   64      0              358   ...      3659.0      3894         False   \n",
       "2   54      0              479   ...      3659.0      3894         False   \n",
       "3   46      0              479   ...      3659.0      3894         False   \n",
       "4   78      0              349   ...      3659.0      3894          True   \n",
       "\n",
       "   amount_x  loan_id  date  amount_y  duration  payments  status  \n",
       "0    3662.0      NaN   NaN       NaN       NaN       NaN     NaN  \n",
       "1    3662.0      NaN   NaN       NaN       NaN       NaN     NaN  \n",
       "2    3338.0      NaN   NaN       NaN       NaN       NaN     NaN  \n",
       "3    3338.0      NaN   NaN       NaN       NaN       NaN     NaN  \n",
       "4    3583.0      NaN   NaN       NaN       NaN       NaN     NaN  \n",
       "\n",
       "[5 rows x 24 columns]"
      ]
     },
     "execution_count": 117,
     "metadata": {},
     "output_type": "execute_result"
    }
   ],
   "source": [
    "join_4.head()"
   ]
  },
  {
   "cell_type": "code",
   "execution_count": 118,
   "metadata": {},
   "outputs": [
    {
     "data": {
      "text/html": [
       "<div>\n",
       "<style>\n",
       "    .dataframe thead tr:only-child th {\n",
       "        text-align: right;\n",
       "    }\n",
       "\n",
       "    .dataframe thead th {\n",
       "        text-align: left;\n",
       "    }\n",
       "\n",
       "    .dataframe tbody tr th {\n",
       "        vertical-align: top;\n",
       "    }\n",
       "</style>\n",
       "<table border=\"1\" class=\"dataframe\">\n",
       "  <thead>\n",
       "    <tr style=\"text-align: right;\">\n",
       "      <th></th>\n",
       "      <th>loan_id</th>\n",
       "      <th>account_id</th>\n",
       "      <th>date</th>\n",
       "      <th>amount</th>\n",
       "      <th>duration</th>\n",
       "      <th>payments</th>\n",
       "      <th>status</th>\n",
       "    </tr>\n",
       "  </thead>\n",
       "  <tbody>\n",
       "    <tr>\n",
       "      <th>0</th>\n",
       "      <td>5314</td>\n",
       "      <td>1787</td>\n",
       "      <td>930705</td>\n",
       "      <td>96396</td>\n",
       "      <td>12</td>\n",
       "      <td>8033.0</td>\n",
       "      <td>B</td>\n",
       "    </tr>\n",
       "    <tr>\n",
       "      <th>1</th>\n",
       "      <td>5316</td>\n",
       "      <td>1801</td>\n",
       "      <td>930711</td>\n",
       "      <td>165960</td>\n",
       "      <td>36</td>\n",
       "      <td>4610.0</td>\n",
       "      <td>A</td>\n",
       "    </tr>\n",
       "    <tr>\n",
       "      <th>2</th>\n",
       "      <td>6863</td>\n",
       "      <td>9188</td>\n",
       "      <td>930728</td>\n",
       "      <td>127080</td>\n",
       "      <td>60</td>\n",
       "      <td>2118.0</td>\n",
       "      <td>A</td>\n",
       "    </tr>\n",
       "    <tr>\n",
       "      <th>3</th>\n",
       "      <td>5325</td>\n",
       "      <td>1843</td>\n",
       "      <td>930803</td>\n",
       "      <td>105804</td>\n",
       "      <td>36</td>\n",
       "      <td>2939.0</td>\n",
       "      <td>A</td>\n",
       "    </tr>\n",
       "    <tr>\n",
       "      <th>4</th>\n",
       "      <td>7240</td>\n",
       "      <td>11013</td>\n",
       "      <td>930906</td>\n",
       "      <td>274740</td>\n",
       "      <td>60</td>\n",
       "      <td>4579.0</td>\n",
       "      <td>A</td>\n",
       "    </tr>\n",
       "  </tbody>\n",
       "</table>\n",
       "</div>"
      ],
      "text/plain": [
       "   loan_id  account_id    date  amount  duration  payments status\n",
       "0     5314        1787  930705   96396        12    8033.0      B\n",
       "1     5316        1801  930711  165960        36    4610.0      A\n",
       "2     6863        9188  930728  127080        60    2118.0      A\n",
       "3     5325        1843  930803  105804        36    2939.0      A\n",
       "4     7240       11013  930906  274740        60    4579.0      A"
      ]
     },
     "execution_count": 118,
     "metadata": {},
     "output_type": "execute_result"
    }
   ],
   "source": [
    "loan.head()"
   ]
  },
  {
   "cell_type": "code",
   "execution_count": 119,
   "metadata": {
    "collapsed": true
   },
   "outputs": [],
   "source": [
    "join_4_v1 = join_4.drop(['loan_id', 'date','payments'], axis = 1)"
   ]
  },
  {
   "cell_type": "code",
   "execution_count": 120,
   "metadata": {},
   "outputs": [
    {
     "data": {
      "text/html": [
       "<div>\n",
       "<style>\n",
       "    .dataframe thead tr:only-child th {\n",
       "        text-align: right;\n",
       "    }\n",
       "\n",
       "    .dataframe thead th {\n",
       "        text-align: left;\n",
       "    }\n",
       "\n",
       "    .dataframe tbody tr th {\n",
       "        vertical-align: top;\n",
       "    }\n",
       "</style>\n",
       "<table border=\"1\" class=\"dataframe\">\n",
       "  <thead>\n",
       "    <tr style=\"text-align: right;\">\n",
       "      <th></th>\n",
       "      <th>account_id</th>\n",
       "      <th>districtCode</th>\n",
       "      <th>ageofaccount</th>\n",
       "      <th>disp_id</th>\n",
       "      <th>client_id</th>\n",
       "      <th>clientType</th>\n",
       "      <th>sex</th>\n",
       "      <th>age</th>\n",
       "      <th>type_y</th>\n",
       "      <th>frequncyoftrans</th>\n",
       "      <th>...</th>\n",
       "      <th>unemp95</th>\n",
       "      <th>unemp96</th>\n",
       "      <th>entrepreneurs</th>\n",
       "      <th>crimes95</th>\n",
       "      <th>crimes96</th>\n",
       "      <th>sameDistrict</th>\n",
       "      <th>amount_x</th>\n",
       "      <th>amount_y</th>\n",
       "      <th>duration</th>\n",
       "      <th>status</th>\n",
       "    </tr>\n",
       "  </thead>\n",
       "  <tbody>\n",
       "    <tr>\n",
       "      <th>0</th>\n",
       "      <td>576</td>\n",
       "      <td>55</td>\n",
       "      <td>6</td>\n",
       "      <td>692</td>\n",
       "      <td>692</td>\n",
       "      <td>OWNER</td>\n",
       "      <td>F</td>\n",
       "      <td>63</td>\n",
       "      <td>0</td>\n",
       "      <td>358</td>\n",
       "      <td>...</td>\n",
       "      <td>1.88</td>\n",
       "      <td>2.43</td>\n",
       "      <td>111</td>\n",
       "      <td>3659.0</td>\n",
       "      <td>3894</td>\n",
       "      <td>False</td>\n",
       "      <td>3662.0</td>\n",
       "      <td>NaN</td>\n",
       "      <td>NaN</td>\n",
       "      <td>NaN</td>\n",
       "    </tr>\n",
       "    <tr>\n",
       "      <th>1</th>\n",
       "      <td>576</td>\n",
       "      <td>55</td>\n",
       "      <td>6</td>\n",
       "      <td>693</td>\n",
       "      <td>693</td>\n",
       "      <td>DISPONENT</td>\n",
       "      <td>M</td>\n",
       "      <td>64</td>\n",
       "      <td>0</td>\n",
       "      <td>358</td>\n",
       "      <td>...</td>\n",
       "      <td>1.88</td>\n",
       "      <td>2.43</td>\n",
       "      <td>111</td>\n",
       "      <td>3659.0</td>\n",
       "      <td>3894</td>\n",
       "      <td>False</td>\n",
       "      <td>3662.0</td>\n",
       "      <td>NaN</td>\n",
       "      <td>NaN</td>\n",
       "      <td>NaN</td>\n",
       "    </tr>\n",
       "    <tr>\n",
       "      <th>2</th>\n",
       "      <td>704</td>\n",
       "      <td>55</td>\n",
       "      <td>6</td>\n",
       "      <td>844</td>\n",
       "      <td>844</td>\n",
       "      <td>OWNER</td>\n",
       "      <td>M</td>\n",
       "      <td>54</td>\n",
       "      <td>0</td>\n",
       "      <td>479</td>\n",
       "      <td>...</td>\n",
       "      <td>1.88</td>\n",
       "      <td>2.43</td>\n",
       "      <td>111</td>\n",
       "      <td>3659.0</td>\n",
       "      <td>3894</td>\n",
       "      <td>False</td>\n",
       "      <td>3338.0</td>\n",
       "      <td>NaN</td>\n",
       "      <td>NaN</td>\n",
       "      <td>NaN</td>\n",
       "    </tr>\n",
       "    <tr>\n",
       "      <th>3</th>\n",
       "      <td>704</td>\n",
       "      <td>55</td>\n",
       "      <td>6</td>\n",
       "      <td>845</td>\n",
       "      <td>845</td>\n",
       "      <td>DISPONENT</td>\n",
       "      <td>F</td>\n",
       "      <td>46</td>\n",
       "      <td>0</td>\n",
       "      <td>479</td>\n",
       "      <td>...</td>\n",
       "      <td>1.88</td>\n",
       "      <td>2.43</td>\n",
       "      <td>111</td>\n",
       "      <td>3659.0</td>\n",
       "      <td>3894</td>\n",
       "      <td>False</td>\n",
       "      <td>3338.0</td>\n",
       "      <td>NaN</td>\n",
       "      <td>NaN</td>\n",
       "      <td>NaN</td>\n",
       "    </tr>\n",
       "    <tr>\n",
       "      <th>4</th>\n",
       "      <td>192</td>\n",
       "      <td>55</td>\n",
       "      <td>6</td>\n",
       "      <td>232</td>\n",
       "      <td>232</td>\n",
       "      <td>OWNER</td>\n",
       "      <td>F</td>\n",
       "      <td>78</td>\n",
       "      <td>0</td>\n",
       "      <td>349</td>\n",
       "      <td>...</td>\n",
       "      <td>1.88</td>\n",
       "      <td>2.43</td>\n",
       "      <td>111</td>\n",
       "      <td>3659.0</td>\n",
       "      <td>3894</td>\n",
       "      <td>True</td>\n",
       "      <td>3583.0</td>\n",
       "      <td>NaN</td>\n",
       "      <td>NaN</td>\n",
       "      <td>NaN</td>\n",
       "    </tr>\n",
       "  </tbody>\n",
       "</table>\n",
       "<p>5 rows × 21 columns</p>\n",
       "</div>"
      ],
      "text/plain": [
       "   account_id  districtCode  ageofaccount  disp_id  client_id clientType sex  \\\n",
       "0         576            55             6      692        692      OWNER   F   \n",
       "1         576            55             6      693        693  DISPONENT   M   \n",
       "2         704            55             6      844        844      OWNER   M   \n",
       "3         704            55             6      845        845  DISPONENT   F   \n",
       "4         192            55             6      232        232      OWNER   F   \n",
       "\n",
       "   age type_y  frequncyoftrans   ...    unemp95  unemp96  entrepreneurs  \\\n",
       "0   63      0              358   ...       1.88     2.43            111   \n",
       "1   64      0              358   ...       1.88     2.43            111   \n",
       "2   54      0              479   ...       1.88     2.43            111   \n",
       "3   46      0              479   ...       1.88     2.43            111   \n",
       "4   78      0              349   ...       1.88     2.43            111   \n",
       "\n",
       "   crimes95  crimes96  sameDistrict  amount_x  amount_y  duration  status  \n",
       "0    3659.0      3894         False    3662.0       NaN       NaN     NaN  \n",
       "1    3659.0      3894         False    3662.0       NaN       NaN     NaN  \n",
       "2    3659.0      3894         False    3338.0       NaN       NaN     NaN  \n",
       "3    3659.0      3894         False    3338.0       NaN       NaN     NaN  \n",
       "4    3659.0      3894          True    3583.0       NaN       NaN     NaN  \n",
       "\n",
       "[5 rows x 21 columns]"
      ]
     },
     "execution_count": 120,
     "metadata": {},
     "output_type": "execute_result"
    }
   ],
   "source": [
    "join_4_v1.head()"
   ]
  },
  {
   "cell_type": "code",
   "execution_count": 121,
   "metadata": {
    "collapsed": true
   },
   "outputs": [],
   "source": [
    "join_4_v1.fillna(0, inplace=True)"
   ]
  },
  {
   "cell_type": "code",
   "execution_count": 122,
   "metadata": {
    "collapsed": true
   },
   "outputs": [],
   "source": [
    "# Setting the label\n",
    "join_4_v1.columns = ['account_id', 'districtCode', 'ageofaccount', 'disp_id', 'client_id',\n",
    "       'clientType', 'sex', 'age', 'HighValueFlag', 'frequncyoftrans', 'avgsalary',\n",
    "       'unemp95', 'unemp96', 'entrepreneurs', 'crimes95', 'crimes96',\n",
    "       'accSameDistrictflag', 'directDebitAmount', 'loanAmount', 'loanDuration', 'HighRiskFlag']"
   ]
  },
  {
   "cell_type": "code",
   "execution_count": 123,
   "metadata": {},
   "outputs": [
    {
     "data": {
      "text/html": [
       "<div>\n",
       "<style>\n",
       "    .dataframe thead tr:only-child th {\n",
       "        text-align: right;\n",
       "    }\n",
       "\n",
       "    .dataframe thead th {\n",
       "        text-align: left;\n",
       "    }\n",
       "\n",
       "    .dataframe tbody tr th {\n",
       "        vertical-align: top;\n",
       "    }\n",
       "</style>\n",
       "<table border=\"1\" class=\"dataframe\">\n",
       "  <thead>\n",
       "    <tr style=\"text-align: right;\">\n",
       "      <th></th>\n",
       "      <th>account_id</th>\n",
       "      <th>districtCode</th>\n",
       "      <th>ageofaccount</th>\n",
       "      <th>disp_id</th>\n",
       "      <th>client_id</th>\n",
       "      <th>clientType</th>\n",
       "      <th>sex</th>\n",
       "      <th>age</th>\n",
       "      <th>HighValueFlag</th>\n",
       "      <th>frequncyoftrans</th>\n",
       "      <th>...</th>\n",
       "      <th>unemp95</th>\n",
       "      <th>unemp96</th>\n",
       "      <th>entrepreneurs</th>\n",
       "      <th>crimes95</th>\n",
       "      <th>crimes96</th>\n",
       "      <th>accSameDistrictflag</th>\n",
       "      <th>directDebitAmount</th>\n",
       "      <th>loanAmount</th>\n",
       "      <th>loanDuration</th>\n",
       "      <th>HighRiskFlag</th>\n",
       "    </tr>\n",
       "  </thead>\n",
       "  <tbody>\n",
       "    <tr>\n",
       "      <th>0</th>\n",
       "      <td>576</td>\n",
       "      <td>55</td>\n",
       "      <td>6</td>\n",
       "      <td>692</td>\n",
       "      <td>692</td>\n",
       "      <td>OWNER</td>\n",
       "      <td>F</td>\n",
       "      <td>63</td>\n",
       "      <td>0</td>\n",
       "      <td>358</td>\n",
       "      <td>...</td>\n",
       "      <td>1.88</td>\n",
       "      <td>2.43</td>\n",
       "      <td>111</td>\n",
       "      <td>3659.0</td>\n",
       "      <td>3894</td>\n",
       "      <td>False</td>\n",
       "      <td>3662.0</td>\n",
       "      <td>0.0</td>\n",
       "      <td>0.0</td>\n",
       "      <td>0</td>\n",
       "    </tr>\n",
       "    <tr>\n",
       "      <th>1</th>\n",
       "      <td>576</td>\n",
       "      <td>55</td>\n",
       "      <td>6</td>\n",
       "      <td>693</td>\n",
       "      <td>693</td>\n",
       "      <td>DISPONENT</td>\n",
       "      <td>M</td>\n",
       "      <td>64</td>\n",
       "      <td>0</td>\n",
       "      <td>358</td>\n",
       "      <td>...</td>\n",
       "      <td>1.88</td>\n",
       "      <td>2.43</td>\n",
       "      <td>111</td>\n",
       "      <td>3659.0</td>\n",
       "      <td>3894</td>\n",
       "      <td>False</td>\n",
       "      <td>3662.0</td>\n",
       "      <td>0.0</td>\n",
       "      <td>0.0</td>\n",
       "      <td>0</td>\n",
       "    </tr>\n",
       "    <tr>\n",
       "      <th>2</th>\n",
       "      <td>704</td>\n",
       "      <td>55</td>\n",
       "      <td>6</td>\n",
       "      <td>844</td>\n",
       "      <td>844</td>\n",
       "      <td>OWNER</td>\n",
       "      <td>M</td>\n",
       "      <td>54</td>\n",
       "      <td>0</td>\n",
       "      <td>479</td>\n",
       "      <td>...</td>\n",
       "      <td>1.88</td>\n",
       "      <td>2.43</td>\n",
       "      <td>111</td>\n",
       "      <td>3659.0</td>\n",
       "      <td>3894</td>\n",
       "      <td>False</td>\n",
       "      <td>3338.0</td>\n",
       "      <td>0.0</td>\n",
       "      <td>0.0</td>\n",
       "      <td>0</td>\n",
       "    </tr>\n",
       "    <tr>\n",
       "      <th>3</th>\n",
       "      <td>704</td>\n",
       "      <td>55</td>\n",
       "      <td>6</td>\n",
       "      <td>845</td>\n",
       "      <td>845</td>\n",
       "      <td>DISPONENT</td>\n",
       "      <td>F</td>\n",
       "      <td>46</td>\n",
       "      <td>0</td>\n",
       "      <td>479</td>\n",
       "      <td>...</td>\n",
       "      <td>1.88</td>\n",
       "      <td>2.43</td>\n",
       "      <td>111</td>\n",
       "      <td>3659.0</td>\n",
       "      <td>3894</td>\n",
       "      <td>False</td>\n",
       "      <td>3338.0</td>\n",
       "      <td>0.0</td>\n",
       "      <td>0.0</td>\n",
       "      <td>0</td>\n",
       "    </tr>\n",
       "    <tr>\n",
       "      <th>4</th>\n",
       "      <td>192</td>\n",
       "      <td>55</td>\n",
       "      <td>6</td>\n",
       "      <td>232</td>\n",
       "      <td>232</td>\n",
       "      <td>OWNER</td>\n",
       "      <td>F</td>\n",
       "      <td>78</td>\n",
       "      <td>0</td>\n",
       "      <td>349</td>\n",
       "      <td>...</td>\n",
       "      <td>1.88</td>\n",
       "      <td>2.43</td>\n",
       "      <td>111</td>\n",
       "      <td>3659.0</td>\n",
       "      <td>3894</td>\n",
       "      <td>True</td>\n",
       "      <td>3583.0</td>\n",
       "      <td>0.0</td>\n",
       "      <td>0.0</td>\n",
       "      <td>0</td>\n",
       "    </tr>\n",
       "  </tbody>\n",
       "</table>\n",
       "<p>5 rows × 21 columns</p>\n",
       "</div>"
      ],
      "text/plain": [
       "   account_id  districtCode  ageofaccount  disp_id  client_id clientType sex  \\\n",
       "0         576            55             6      692        692      OWNER   F   \n",
       "1         576            55             6      693        693  DISPONENT   M   \n",
       "2         704            55             6      844        844      OWNER   M   \n",
       "3         704            55             6      845        845  DISPONENT   F   \n",
       "4         192            55             6      232        232      OWNER   F   \n",
       "\n",
       "   age HighValueFlag  frequncyoftrans      ...       unemp95  unemp96  \\\n",
       "0   63             0              358      ...          1.88     2.43   \n",
       "1   64             0              358      ...          1.88     2.43   \n",
       "2   54             0              479      ...          1.88     2.43   \n",
       "3   46             0              479      ...          1.88     2.43   \n",
       "4   78             0              349      ...          1.88     2.43   \n",
       "\n",
       "   entrepreneurs  crimes95  crimes96  accSameDistrictflag  directDebitAmount  \\\n",
       "0            111    3659.0      3894                False             3662.0   \n",
       "1            111    3659.0      3894                False             3662.0   \n",
       "2            111    3659.0      3894                False             3338.0   \n",
       "3            111    3659.0      3894                False             3338.0   \n",
       "4            111    3659.0      3894                 True             3583.0   \n",
       "\n",
       "   loanAmount  loanDuration  HighRiskFlag  \n",
       "0         0.0           0.0             0  \n",
       "1         0.0           0.0             0  \n",
       "2         0.0           0.0             0  \n",
       "3         0.0           0.0             0  \n",
       "4         0.0           0.0             0  \n",
       "\n",
       "[5 rows x 21 columns]"
      ]
     },
     "execution_count": 123,
     "metadata": {},
     "output_type": "execute_result"
    }
   ],
   "source": [
    "join_4_v1.head()"
   ]
  },
  {
   "cell_type": "code",
   "execution_count": 124,
   "metadata": {
    "collapsed": true
   },
   "outputs": [],
   "source": [
    "join_4_v1.HighRiskFlag = join_4_v1.HighRiskFlag.apply(lambda x: (x == 'B') , 1, 0)"
   ]
  },
  {
   "cell_type": "code",
   "execution_count": 125,
   "metadata": {
    "collapsed": true
   },
   "outputs": [],
   "source": [
    "join_4_v1.HighRiskFlag = join_4_v1.HighRiskFlag.astype('int64', copy = False)"
   ]
  },
  {
   "cell_type": "code",
   "execution_count": 126,
   "metadata": {},
   "outputs": [
    {
     "data": {
      "text/plain": [
       "array([0, 1], dtype=int64)"
      ]
     },
     "execution_count": 126,
     "metadata": {},
     "output_type": "execute_result"
    }
   ],
   "source": [
    "join_4_v1.HighRiskFlag.unique()"
   ]
  },
  {
   "cell_type": "code",
   "execution_count": 127,
   "metadata": {
    "collapsed": true
   },
   "outputs": [],
   "source": [
    "join_4_v1.HighValueFlag = join_4_v1.HighValueFlag.apply(lambda x: (x == 'gold') , 1 , 0)"
   ]
  },
  {
   "cell_type": "code",
   "execution_count": 128,
   "metadata": {
    "collapsed": true
   },
   "outputs": [],
   "source": [
    "join_4_v1.HighValueFlag = join_4_v1.HighValueFlag.astype('int64', copy = False)"
   ]
  },
  {
   "cell_type": "code",
   "execution_count": 129,
   "metadata": {},
   "outputs": [
    {
     "data": {
      "text/plain": [
       "count    5369.000000\n",
       "mean        0.016390\n",
       "std         0.126983\n",
       "min         0.000000\n",
       "25%         0.000000\n",
       "50%         0.000000\n",
       "75%         0.000000\n",
       "max         1.000000\n",
       "Name: HighValueFlag, dtype: float64"
      ]
     },
     "execution_count": 129,
     "metadata": {},
     "output_type": "execute_result"
    }
   ],
   "source": [
    "join_4_v1.HighValueFlag.describe()"
   ]
  },
  {
   "cell_type": "markdown",
   "metadata": {},
   "source": [
    "### Seperate Labels From Dataset"
   ]
  },
  {
   "cell_type": "code",
   "execution_count": 130,
   "metadata": {},
   "outputs": [
    {
     "data": {
      "text/plain": [
       "Index(['account_id', 'districtCode', 'ageofaccount', 'disp_id', 'client_id',\n",
       "       'clientType', 'sex', 'age', 'HighValueFlag', 'frequncyoftrans',\n",
       "       'avgsalary', 'unemp95', 'unemp96', 'entrepreneurs', 'crimes95',\n",
       "       'crimes96', 'accSameDistrictflag', 'directDebitAmount', 'loanAmount',\n",
       "       'loanDuration', 'HighRiskFlag'],\n",
       "      dtype='object')"
      ]
     },
     "execution_count": 130,
     "metadata": {},
     "output_type": "execute_result"
    }
   ],
   "source": [
    "join_4_v1.columns"
   ]
  },
  {
   "cell_type": "code",
   "execution_count": 131,
   "metadata": {
    "collapsed": true
   },
   "outputs": [],
   "source": [
    "X = join_4_v1[['clientType', 'districtCode',\n",
    "       'sex', 'age', 'frequncyoftrans', 'avgsalary',\n",
    "       'unemp95', 'unemp96', 'entrepreneurs', 'crimes95', 'crimes96',\n",
    "       'accSameDistrictflag', 'directDebitAmount', 'loanAmount',\n",
    "       'loanDuration']]"
   ]
  },
  {
   "cell_type": "code",
   "execution_count": 132,
   "metadata": {
    "collapsed": true
   },
   "outputs": [],
   "source": [
    "X.accSameDistrictflag = X.accSameDistrictflag.astype('int64', copy= False)"
   ]
  },
  {
   "cell_type": "code",
   "execution_count": 133,
   "metadata": {
    "collapsed": true
   },
   "outputs": [],
   "source": [
    "X.clientType = X.clientType.replace(['OWNER','DISPONENT'],[1,0], inplace= False)"
   ]
  },
  {
   "cell_type": "code",
   "execution_count": 134,
   "metadata": {
    "collapsed": true
   },
   "outputs": [],
   "source": [
    "X.sex = X.sex.replace(['F','M'],[0,1], inplace= False)"
   ]
  },
  {
   "cell_type": "code",
   "execution_count": 135,
   "metadata": {},
   "outputs": [
    {
     "data": {
      "text/html": [
       "<div>\n",
       "<style>\n",
       "    .dataframe thead tr:only-child th {\n",
       "        text-align: right;\n",
       "    }\n",
       "\n",
       "    .dataframe thead th {\n",
       "        text-align: left;\n",
       "    }\n",
       "\n",
       "    .dataframe tbody tr th {\n",
       "        vertical-align: top;\n",
       "    }\n",
       "</style>\n",
       "<table border=\"1\" class=\"dataframe\">\n",
       "  <thead>\n",
       "    <tr style=\"text-align: right;\">\n",
       "      <th></th>\n",
       "      <th>clientType</th>\n",
       "      <th>districtCode</th>\n",
       "      <th>sex</th>\n",
       "      <th>age</th>\n",
       "      <th>frequncyoftrans</th>\n",
       "      <th>avgsalary</th>\n",
       "      <th>unemp95</th>\n",
       "      <th>unemp96</th>\n",
       "      <th>entrepreneurs</th>\n",
       "      <th>crimes95</th>\n",
       "      <th>crimes96</th>\n",
       "      <th>accSameDistrictflag</th>\n",
       "      <th>directDebitAmount</th>\n",
       "      <th>loanAmount</th>\n",
       "      <th>loanDuration</th>\n",
       "    </tr>\n",
       "  </thead>\n",
       "  <tbody>\n",
       "    <tr>\n",
       "      <th>0</th>\n",
       "      <td>1</td>\n",
       "      <td>55</td>\n",
       "      <td>0</td>\n",
       "      <td>63</td>\n",
       "      <td>358</td>\n",
       "      <td>8743</td>\n",
       "      <td>1.88</td>\n",
       "      <td>2.43</td>\n",
       "      <td>111</td>\n",
       "      <td>3659.0</td>\n",
       "      <td>3894</td>\n",
       "      <td>0</td>\n",
       "      <td>3662.0</td>\n",
       "      <td>0.0</td>\n",
       "      <td>0.0</td>\n",
       "    </tr>\n",
       "    <tr>\n",
       "      <th>1</th>\n",
       "      <td>0</td>\n",
       "      <td>55</td>\n",
       "      <td>1</td>\n",
       "      <td>64</td>\n",
       "      <td>358</td>\n",
       "      <td>8743</td>\n",
       "      <td>1.88</td>\n",
       "      <td>2.43</td>\n",
       "      <td>111</td>\n",
       "      <td>3659.0</td>\n",
       "      <td>3894</td>\n",
       "      <td>0</td>\n",
       "      <td>3662.0</td>\n",
       "      <td>0.0</td>\n",
       "      <td>0.0</td>\n",
       "    </tr>\n",
       "    <tr>\n",
       "      <th>2</th>\n",
       "      <td>1</td>\n",
       "      <td>55</td>\n",
       "      <td>1</td>\n",
       "      <td>54</td>\n",
       "      <td>479</td>\n",
       "      <td>8743</td>\n",
       "      <td>1.88</td>\n",
       "      <td>2.43</td>\n",
       "      <td>111</td>\n",
       "      <td>3659.0</td>\n",
       "      <td>3894</td>\n",
       "      <td>0</td>\n",
       "      <td>3338.0</td>\n",
       "      <td>0.0</td>\n",
       "      <td>0.0</td>\n",
       "    </tr>\n",
       "    <tr>\n",
       "      <th>3</th>\n",
       "      <td>0</td>\n",
       "      <td>55</td>\n",
       "      <td>0</td>\n",
       "      <td>46</td>\n",
       "      <td>479</td>\n",
       "      <td>8743</td>\n",
       "      <td>1.88</td>\n",
       "      <td>2.43</td>\n",
       "      <td>111</td>\n",
       "      <td>3659.0</td>\n",
       "      <td>3894</td>\n",
       "      <td>0</td>\n",
       "      <td>3338.0</td>\n",
       "      <td>0.0</td>\n",
       "      <td>0.0</td>\n",
       "    </tr>\n",
       "    <tr>\n",
       "      <th>4</th>\n",
       "      <td>1</td>\n",
       "      <td>55</td>\n",
       "      <td>0</td>\n",
       "      <td>78</td>\n",
       "      <td>349</td>\n",
       "      <td>8743</td>\n",
       "      <td>1.88</td>\n",
       "      <td>2.43</td>\n",
       "      <td>111</td>\n",
       "      <td>3659.0</td>\n",
       "      <td>3894</td>\n",
       "      <td>1</td>\n",
       "      <td>3583.0</td>\n",
       "      <td>0.0</td>\n",
       "      <td>0.0</td>\n",
       "    </tr>\n",
       "  </tbody>\n",
       "</table>\n",
       "</div>"
      ],
      "text/plain": [
       "   clientType  districtCode  sex  age  frequncyoftrans  avgsalary  unemp95  \\\n",
       "0           1            55    0   63              358       8743     1.88   \n",
       "1           0            55    1   64              358       8743     1.88   \n",
       "2           1            55    1   54              479       8743     1.88   \n",
       "3           0            55    0   46              479       8743     1.88   \n",
       "4           1            55    0   78              349       8743     1.88   \n",
       "\n",
       "   unemp96  entrepreneurs  crimes95  crimes96  accSameDistrictflag  \\\n",
       "0     2.43            111    3659.0      3894                    0   \n",
       "1     2.43            111    3659.0      3894                    0   \n",
       "2     2.43            111    3659.0      3894                    0   \n",
       "3     2.43            111    3659.0      3894                    0   \n",
       "4     2.43            111    3659.0      3894                    1   \n",
       "\n",
       "   directDebitAmount  loanAmount  loanDuration  \n",
       "0             3662.0         0.0           0.0  \n",
       "1             3662.0         0.0           0.0  \n",
       "2             3338.0         0.0           0.0  \n",
       "3             3338.0         0.0           0.0  \n",
       "4             3583.0         0.0           0.0  "
      ]
     },
     "execution_count": 135,
     "metadata": {},
     "output_type": "execute_result"
    }
   ],
   "source": [
    "X.head()"
   ]
  },
  {
   "cell_type": "code",
   "execution_count": 136,
   "metadata": {
    "collapsed": true
   },
   "outputs": [],
   "source": [
    "from sklearn import preprocessing\n",
    "X_scaled = preprocessing.scale(X)"
   ]
  },
  {
   "cell_type": "code",
   "execution_count": 137,
   "metadata": {
    "collapsed": true
   },
   "outputs": [],
   "source": [
    "y_risk = join_4_v1[['HighRiskFlag']]\n",
    "y_value = join_4_v1[['HighValueFlag']]"
   ]
  },
  {
   "cell_type": "markdown",
   "metadata": {},
   "source": [
    "------------------"
   ]
  },
  {
   "cell_type": "markdown",
   "metadata": {},
   "source": [
    "## Predicting High Risk Clients"
   ]
  },
  {
   "cell_type": "code",
   "execution_count": 141,
   "metadata": {
    "collapsed": true
   },
   "outputs": [],
   "source": [
    "# Split train-test data sets\n",
    "from sklearn.model_selection import train_test_split\n",
    "X_train, X_test, y_risk_train, y_risk_test = train_test_split(X_scaled, y_risk, test_size=0.50, random_state=0)"
   ]
  },
  {
   "cell_type": "code",
   "execution_count": 142,
   "metadata": {},
   "outputs": [
    {
     "data": {
      "text/plain": [
       "DecisionTreeClassifier(class_weight=None, criterion='gini', max_depth=None,\n",
       "            max_features=None, max_leaf_nodes=None,\n",
       "            min_impurity_decrease=0.0, min_impurity_split=None,\n",
       "            min_samples_leaf=1, min_samples_split=2,\n",
       "            min_weight_fraction_leaf=0.0, presort=False, random_state=None,\n",
       "            splitter='best')"
      ]
     },
     "execution_count": 142,
     "metadata": {},
     "output_type": "execute_result"
    }
   ],
   "source": [
    "DTclf.fit(X_train,y_risk_train)"
   ]
  },
  {
   "cell_type": "code",
   "execution_count": 143,
   "metadata": {},
   "outputs": [
    {
     "data": {
      "text/plain": [
       "array([0.98884758, 0.98884758, 0.98513011, 0.99628253, 0.98884758,\n",
       "       0.98141264, 0.99253731, 0.98880597, 0.97752809, 0.98876404])"
      ]
     },
     "execution_count": 143,
     "metadata": {},
     "output_type": "execute_result"
    }
   ],
   "source": [
    "# Cross validation\n",
    "from sklearn.model_selection import cross_val_score\n",
    "scores = cross_val_score(DTclf, X_train, y_risk_train, cv=10);scores"
   ]
  },
  {
   "cell_type": "code",
   "execution_count": 144,
   "metadata": {
    "collapsed": true
   },
   "outputs": [],
   "source": [
    "#Predict using test set\n",
    "y_pred_DT = DTclf.predict(X_test)"
   ]
  },
  {
   "cell_type": "code",
   "execution_count": 145,
   "metadata": {},
   "outputs": [
    {
     "data": {
      "text/plain": [
       "0.9895716945996276"
      ]
     },
     "execution_count": 145,
     "metadata": {},
     "output_type": "execute_result"
    }
   ],
   "source": [
    "from sklearn.metrics import accuracy_score\n",
    "accuracy_score(y_risk_test,y_pred_DT)"
   ]
  },
  {
   "cell_type": "code",
   "execution_count": 146,
   "metadata": {},
   "outputs": [
    {
     "data": {
      "text/plain": [
       "(2654, 18, 10, 3)"
      ]
     },
     "execution_count": 146,
     "metadata": {},
     "output_type": "execute_result"
    }
   ],
   "source": [
    "# Confusion matrix\n",
    "from sklearn.metrics import confusion_matrix\n",
    "tn, fp, fn, tp = confusion_matrix(y_risk_test,y_pred_DT).ravel();\n",
    "(tn, fp, fn, tp)"
   ]
  },
  {
   "cell_type": "markdown",
   "metadata": {},
   "source": [
    "###### Poor confusion matrix result is due the fact that the number of minority data is not enough."
   ]
  },
  {
   "cell_type": "markdown",
   "metadata": {},
   "source": [
    "--------------------------------------------------------------------------------------------------------------------------------"
   ]
  },
  {
   "cell_type": "markdown",
   "metadata": {},
   "source": [
    "### Synthetic over sampling of minority data"
   ]
  },
  {
   "cell_type": "code",
   "execution_count": 147,
   "metadata": {
    "collapsed": true
   },
   "outputs": [],
   "source": [
    "from imblearn.over_sampling import SMOTE"
   ]
  },
  {
   "cell_type": "code",
   "execution_count": 148,
   "metadata": {
    "collapsed": true
   },
   "outputs": [],
   "source": [
    "# Over sampling the minority class '1'\n",
    "X_resampled, y_resampled = SMOTE().fit_sample(X_scaled,y_risk)"
   ]
  },
  {
   "cell_type": "code",
   "execution_count": 149,
   "metadata": {
    "collapsed": true
   },
   "outputs": [],
   "source": [
    "X_train, X_test, y_risk_train, y_risk_test = train_test_split(X_resampled, y_resampled, test_size=0.35, random_state=0)"
   ]
  },
  {
   "cell_type": "code",
   "execution_count": 150,
   "metadata": {},
   "outputs": [
    {
     "data": {
      "text/plain": [
       "DecisionTreeClassifier(class_weight=None, criterion='gini', max_depth=None,\n",
       "            max_features=None, max_leaf_nodes=None,\n",
       "            min_impurity_decrease=0.0, min_impurity_split=None,\n",
       "            min_samples_leaf=1, min_samples_split=2,\n",
       "            min_weight_fraction_leaf=0.0, presort=False, random_state=None,\n",
       "            splitter='best')"
      ]
     },
     "execution_count": 150,
     "metadata": {},
     "output_type": "execute_result"
    }
   ],
   "source": [
    "DTclf.fit(X_train,y_risk_train)"
   ]
  },
  {
   "cell_type": "code",
   "execution_count": 151,
   "metadata": {},
   "outputs": [
    {
     "data": {
      "text/plain": [
       "array([0.99280576, 0.99280576, 0.9870317 , 0.99711816, 0.99423631,\n",
       "       0.98847262, 0.98559078, 0.98412698, 0.99278499, 0.99278499])"
      ]
     },
     "execution_count": 151,
     "metadata": {},
     "output_type": "execute_result"
    }
   ],
   "source": [
    "scores = cross_val_score(DTclf, X_train, y_risk_train, cv=10);scores"
   ]
  },
  {
   "cell_type": "code",
   "execution_count": 152,
   "metadata": {
    "collapsed": true
   },
   "outputs": [],
   "source": [
    "y_pred_DT = DTclf.predict(X_test)"
   ]
  },
  {
   "cell_type": "code",
   "execution_count": 153,
   "metadata": {},
   "outputs": [
    {
     "data": {
      "text/plain": [
       "0.9909017928819909"
      ]
     },
     "execution_count": 153,
     "metadata": {},
     "output_type": "execute_result"
    }
   ],
   "source": [
    "accuracy_score(y_risk_test,y_pred_DT)"
   ]
  },
  {
   "cell_type": "code",
   "execution_count": 154,
   "metadata": {},
   "outputs": [
    {
     "data": {
      "text/plain": [
       "(1823, 23, 11, 1880)"
      ]
     },
     "execution_count": 154,
     "metadata": {},
     "output_type": "execute_result"
    }
   ],
   "source": [
    "tn, fp, fn, tp = confusion_matrix(y_risk_test,y_pred_DT).ravel();\n",
    "(tn, fp, fn, tp)"
   ]
  },
  {
   "cell_type": "markdown",
   "metadata": {},
   "source": [
    "Next Steps:\n",
    "    1. Pruning, hyperparameter tuning.\n",
    "    2. feature selection."
   ]
  },
  {
   "cell_type": "markdown",
   "metadata": {},
   "source": [
    "--------------------------------------------------------------------"
   ]
  },
  {
   "cell_type": "code",
   "execution_count": 165,
   "metadata": {
    "collapsed": true
   },
   "outputs": [],
   "source": [
    "# Setting the hyperparameter\n",
    "DTclf1 = tree.DecisionTreeClassifier(max_depth = 1)"
   ]
  },
  {
   "cell_type": "code",
   "execution_count": 166,
   "metadata": {},
   "outputs": [
    {
     "data": {
      "text/plain": [
       "DecisionTreeClassifier(class_weight=None, criterion='gini', max_depth=None,\n",
       "            max_features=None, max_leaf_nodes=None,\n",
       "            min_impurity_decrease=0.0, min_impurity_split=None,\n",
       "            min_samples_leaf=1, min_samples_split=2,\n",
       "            min_weight_fraction_leaf=0.0, presort=False, random_state=None,\n",
       "            splitter='best')"
      ]
     },
     "execution_count": 166,
     "metadata": {},
     "output_type": "execute_result"
    }
   ],
   "source": [
    "DTclf.fit(X_train,y_risk_train)"
   ]
  },
  {
   "cell_type": "code",
   "execution_count": 167,
   "metadata": {},
   "outputs": [
    {
     "data": {
      "text/plain": [
       "array([0.9942446 , 0.99280576, 0.98559078, 0.99567723, 0.99711816,\n",
       "       0.98847262, 0.9870317 , 0.98412698, 0.99422799, 0.995671  ])"
      ]
     },
     "execution_count": 167,
     "metadata": {},
     "output_type": "execute_result"
    }
   ],
   "source": [
    "scores = cross_val_score(DTclf, X_train, y_risk_train, cv=10);scores"
   ]
  },
  {
   "cell_type": "code",
   "execution_count": 168,
   "metadata": {
    "collapsed": true
   },
   "outputs": [],
   "source": [
    "y_pred_DT = DTclf.predict(X_test)"
   ]
  },
  {
   "cell_type": "code",
   "execution_count": 169,
   "metadata": {},
   "outputs": [
    {
     "data": {
      "text/plain": [
       "(1826, 20, 9, 1882)"
      ]
     },
     "execution_count": 169,
     "metadata": {},
     "output_type": "execute_result"
    }
   ],
   "source": [
    "tn, fp, fn, tp = confusion_matrix(y_risk_test,y_pred_DT).ravel();\n",
    "(tn, fp, fn, tp)"
   ]
  },
  {
   "cell_type": "code",
   "execution_count": null,
   "metadata": {
    "collapsed": true
   },
   "outputs": [],
   "source": []
  }
 ],
 "metadata": {
  "kernelspec": {
   "display_name": "Python 3",
   "language": "python",
   "name": "python3"
  },
  "language_info": {
   "codemirror_mode": {
    "name": "ipython",
    "version": 3
   },
   "file_extension": ".py",
   "mimetype": "text/x-python",
   "name": "python",
   "nbconvert_exporter": "python",
   "pygments_lexer": "ipython3",
   "version": "3.6.3"
  }
 },
 "nbformat": 4,
 "nbformat_minor": 2
}
